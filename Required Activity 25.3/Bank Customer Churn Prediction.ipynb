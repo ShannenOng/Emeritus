{
 "cells": [
  {
   "cell_type": "markdown",
   "id": "69a07717",
   "metadata": {},
   "source": [
    "## Prevention of Bank Customer Churn: A Predictive and Analysis Model"
   ]
  },
  {
   "cell_type": "markdown",
   "id": "b9b67ae7",
   "metadata": {},
   "source": [
    "### 1. Introduction\n",
    "\n",
    "The main aim of the following study seeks to achieve 2 goals:\n",
    "1. Identification of which inputs affect and contribute to customer churn in a bank.\n",
    "2. Building of Predictive Model that classifies the churn status of a bank customer."
   ]
  },
  {
   "cell_type": "code",
   "execution_count": 1,
   "id": "e99bd119",
   "metadata": {},
   "outputs": [],
   "source": [
    "# import packages and libraries\n",
    "import numpy as np\n",
    "import pandas as pd\n",
    "\n",
    "# import visualisation packages\n",
    "import matplotlib.pyplot as plt\n",
    "%matplotlib inline\n",
    "import seaborn as sns"
   ]
  },
  {
   "cell_type": "markdown",
   "id": "f105e645",
   "metadata": {},
   "source": [
    "### 2. Dataset Preparation\n",
    "\n",
    "This section seeks to understand the data structure we have, including  the following tasks:\n",
    "1. Understanding of input variables used.\n",
    "2. Preparation of datasets for exploration and prediction purposes."
   ]
  },
  {
   "cell_type": "code",
   "execution_count": 2,
   "id": "e93192b8",
   "metadata": {
    "scrolled": true
   },
   "outputs": [
    {
     "data": {
      "text/html": [
       "<div>\n",
       "<style scoped>\n",
       "    .dataframe tbody tr th:only-of-type {\n",
       "        vertical-align: middle;\n",
       "    }\n",
       "\n",
       "    .dataframe tbody tr th {\n",
       "        vertical-align: top;\n",
       "    }\n",
       "\n",
       "    .dataframe thead th {\n",
       "        text-align: right;\n",
       "    }\n",
       "</style>\n",
       "<table border=\"1\" class=\"dataframe\">\n",
       "  <thead>\n",
       "    <tr style=\"text-align: right;\">\n",
       "      <th></th>\n",
       "      <th>RowNumber</th>\n",
       "      <th>CustomerId</th>\n",
       "      <th>Surname</th>\n",
       "      <th>CreditScore</th>\n",
       "      <th>Geography</th>\n",
       "      <th>Gender</th>\n",
       "      <th>Age</th>\n",
       "      <th>Tenure</th>\n",
       "      <th>Balance</th>\n",
       "      <th>NumOfProducts</th>\n",
       "      <th>HasCrCard</th>\n",
       "      <th>IsActiveMember</th>\n",
       "      <th>EstimatedSalary</th>\n",
       "      <th>Exited</th>\n",
       "    </tr>\n",
       "  </thead>\n",
       "  <tbody>\n",
       "    <tr>\n",
       "      <th>0</th>\n",
       "      <td>1</td>\n",
       "      <td>15634602</td>\n",
       "      <td>Hargrave</td>\n",
       "      <td>619</td>\n",
       "      <td>France</td>\n",
       "      <td>Female</td>\n",
       "      <td>42</td>\n",
       "      <td>2</td>\n",
       "      <td>0.00</td>\n",
       "      <td>1</td>\n",
       "      <td>1</td>\n",
       "      <td>1</td>\n",
       "      <td>101348.88</td>\n",
       "      <td>1</td>\n",
       "    </tr>\n",
       "    <tr>\n",
       "      <th>1</th>\n",
       "      <td>2</td>\n",
       "      <td>15647311</td>\n",
       "      <td>Hill</td>\n",
       "      <td>608</td>\n",
       "      <td>Spain</td>\n",
       "      <td>Female</td>\n",
       "      <td>41</td>\n",
       "      <td>1</td>\n",
       "      <td>83807.86</td>\n",
       "      <td>1</td>\n",
       "      <td>0</td>\n",
       "      <td>1</td>\n",
       "      <td>112542.58</td>\n",
       "      <td>0</td>\n",
       "    </tr>\n",
       "    <tr>\n",
       "      <th>2</th>\n",
       "      <td>3</td>\n",
       "      <td>15619304</td>\n",
       "      <td>Onio</td>\n",
       "      <td>502</td>\n",
       "      <td>France</td>\n",
       "      <td>Female</td>\n",
       "      <td>42</td>\n",
       "      <td>8</td>\n",
       "      <td>159660.80</td>\n",
       "      <td>3</td>\n",
       "      <td>1</td>\n",
       "      <td>0</td>\n",
       "      <td>113931.57</td>\n",
       "      <td>1</td>\n",
       "    </tr>\n",
       "    <tr>\n",
       "      <th>3</th>\n",
       "      <td>4</td>\n",
       "      <td>15701354</td>\n",
       "      <td>Boni</td>\n",
       "      <td>699</td>\n",
       "      <td>France</td>\n",
       "      <td>Female</td>\n",
       "      <td>39</td>\n",
       "      <td>1</td>\n",
       "      <td>0.00</td>\n",
       "      <td>2</td>\n",
       "      <td>0</td>\n",
       "      <td>0</td>\n",
       "      <td>93826.63</td>\n",
       "      <td>0</td>\n",
       "    </tr>\n",
       "    <tr>\n",
       "      <th>4</th>\n",
       "      <td>5</td>\n",
       "      <td>15737888</td>\n",
       "      <td>Mitchell</td>\n",
       "      <td>850</td>\n",
       "      <td>Spain</td>\n",
       "      <td>Female</td>\n",
       "      <td>43</td>\n",
       "      <td>2</td>\n",
       "      <td>125510.82</td>\n",
       "      <td>1</td>\n",
       "      <td>1</td>\n",
       "      <td>1</td>\n",
       "      <td>79084.10</td>\n",
       "      <td>0</td>\n",
       "    </tr>\n",
       "  </tbody>\n",
       "</table>\n",
       "</div>"
      ],
      "text/plain": [
       "   RowNumber  CustomerId   Surname  CreditScore Geography  Gender  Age  \\\n",
       "0          1    15634602  Hargrave          619    France  Female   42   \n",
       "1          2    15647311      Hill          608     Spain  Female   41   \n",
       "2          3    15619304      Onio          502    France  Female   42   \n",
       "3          4    15701354      Boni          699    France  Female   39   \n",
       "4          5    15737888  Mitchell          850     Spain  Female   43   \n",
       "\n",
       "   Tenure    Balance  NumOfProducts  HasCrCard  IsActiveMember  \\\n",
       "0       2       0.00              1          1               1   \n",
       "1       1   83807.86              1          0               1   \n",
       "2       8  159660.80              3          1               0   \n",
       "3       1       0.00              2          0               0   \n",
       "4       2  125510.82              1          1               1   \n",
       "\n",
       "   EstimatedSalary  Exited  \n",
       "0        101348.88       1  \n",
       "1        112542.58       0  \n",
       "2        113931.57       1  \n",
       "3         93826.63       0  \n",
       "4         79084.10       0  "
      ]
     },
     "execution_count": 2,
     "metadata": {},
     "output_type": "execute_result"
    }
   ],
   "source": [
    "# importing of main dataset\n",
    "bank_churn_df=pd.read_csv('Churn_Modelling.csv')\n",
    "bank_churn_df.head()"
   ]
  },
  {
   "cell_type": "code",
   "execution_count": 3,
   "id": "b74f738f",
   "metadata": {},
   "outputs": [
    {
     "name": "stdout",
     "output_type": "stream",
     "text": [
      "Based on the following dataset, we note that there are 10000 observations and 14 inputs included.\n",
      "The next subsequent steps includes the checking of our data for any required data processing and cleaning.\n"
     ]
    }
   ],
   "source": [
    "print('Based on the following dataset, we note that there are', len(bank_churn_df), 'observations and',len(bank_churn_df.columns),'inputs included.')\n",
    "print('The next subsequent steps includes the checking of our data for any required data processing and cleaning.')"
   ]
  },
  {
   "cell_type": "code",
   "execution_count": 4,
   "id": "9da93d0f",
   "metadata": {
    "scrolled": true
   },
   "outputs": [
    {
     "data": {
      "text/plain": [
       "RowNumber          10000\n",
       "CustomerId         10000\n",
       "Surname             2932\n",
       "CreditScore          460\n",
       "Geography              3\n",
       "Gender                 2\n",
       "Age                   70\n",
       "Tenure                11\n",
       "Balance             6382\n",
       "NumOfProducts          4\n",
       "HasCrCard              2\n",
       "IsActiveMember         2\n",
       "EstimatedSalary     9999\n",
       "Exited                 2\n",
       "dtype: int64"
      ]
     },
     "execution_count": 4,
     "metadata": {},
     "output_type": "execute_result"
    }
   ],
   "source": [
    "#checking for distinct count of values from bank churn dataset\n",
    "bank_churn_df.nunique()"
   ]
  },
  {
   "cell_type": "code",
   "execution_count": 5,
   "id": "71318a39",
   "metadata": {
    "scrolled": true
   },
   "outputs": [
    {
     "name": "stdout",
     "output_type": "stream",
     "text": [
      "Therefore, we note that customerID is the primary key count for each observation.\n",
      "We are also aware that the first 3 attributes are not important key variables in our analysis, and shall therefore be omitted.\n"
     ]
    }
   ],
   "source": [
    "print('Therefore, we note that customerID is the primary key count for each observation.')\n",
    "print('We are also aware that the first 3 attributes are not important key variables in our analysis, and shall therefore be omitted.')"
   ]
  },
  {
   "cell_type": "code",
   "execution_count": 6,
   "id": "fccfd15c",
   "metadata": {},
   "outputs": [
    {
     "data": {
      "text/html": [
       "<div>\n",
       "<style scoped>\n",
       "    .dataframe tbody tr th:only-of-type {\n",
       "        vertical-align: middle;\n",
       "    }\n",
       "\n",
       "    .dataframe tbody tr th {\n",
       "        vertical-align: top;\n",
       "    }\n",
       "\n",
       "    .dataframe thead th {\n",
       "        text-align: right;\n",
       "    }\n",
       "</style>\n",
       "<table border=\"1\" class=\"dataframe\">\n",
       "  <thead>\n",
       "    <tr style=\"text-align: right;\">\n",
       "      <th></th>\n",
       "      <th>CreditScore</th>\n",
       "      <th>Geography</th>\n",
       "      <th>Gender</th>\n",
       "      <th>Age</th>\n",
       "      <th>Tenure</th>\n",
       "      <th>Balance</th>\n",
       "      <th>NumOfProducts</th>\n",
       "      <th>HasCrCard</th>\n",
       "      <th>IsActiveMember</th>\n",
       "      <th>EstimatedSalary</th>\n",
       "      <th>Exited</th>\n",
       "    </tr>\n",
       "  </thead>\n",
       "  <tbody>\n",
       "    <tr>\n",
       "      <th>0</th>\n",
       "      <td>619</td>\n",
       "      <td>France</td>\n",
       "      <td>Female</td>\n",
       "      <td>42</td>\n",
       "      <td>2</td>\n",
       "      <td>0.00</td>\n",
       "      <td>1</td>\n",
       "      <td>1</td>\n",
       "      <td>1</td>\n",
       "      <td>101348.88</td>\n",
       "      <td>1</td>\n",
       "    </tr>\n",
       "    <tr>\n",
       "      <th>1</th>\n",
       "      <td>608</td>\n",
       "      <td>Spain</td>\n",
       "      <td>Female</td>\n",
       "      <td>41</td>\n",
       "      <td>1</td>\n",
       "      <td>83807.86</td>\n",
       "      <td>1</td>\n",
       "      <td>0</td>\n",
       "      <td>1</td>\n",
       "      <td>112542.58</td>\n",
       "      <td>0</td>\n",
       "    </tr>\n",
       "    <tr>\n",
       "      <th>2</th>\n",
       "      <td>502</td>\n",
       "      <td>France</td>\n",
       "      <td>Female</td>\n",
       "      <td>42</td>\n",
       "      <td>8</td>\n",
       "      <td>159660.80</td>\n",
       "      <td>3</td>\n",
       "      <td>1</td>\n",
       "      <td>0</td>\n",
       "      <td>113931.57</td>\n",
       "      <td>1</td>\n",
       "    </tr>\n",
       "    <tr>\n",
       "      <th>3</th>\n",
       "      <td>699</td>\n",
       "      <td>France</td>\n",
       "      <td>Female</td>\n",
       "      <td>39</td>\n",
       "      <td>1</td>\n",
       "      <td>0.00</td>\n",
       "      <td>2</td>\n",
       "      <td>0</td>\n",
       "      <td>0</td>\n",
       "      <td>93826.63</td>\n",
       "      <td>0</td>\n",
       "    </tr>\n",
       "    <tr>\n",
       "      <th>4</th>\n",
       "      <td>850</td>\n",
       "      <td>Spain</td>\n",
       "      <td>Female</td>\n",
       "      <td>43</td>\n",
       "      <td>2</td>\n",
       "      <td>125510.82</td>\n",
       "      <td>1</td>\n",
       "      <td>1</td>\n",
       "      <td>1</td>\n",
       "      <td>79084.10</td>\n",
       "      <td>0</td>\n",
       "    </tr>\n",
       "  </tbody>\n",
       "</table>\n",
       "</div>"
      ],
      "text/plain": [
       "   CreditScore Geography  Gender  Age  Tenure    Balance  NumOfProducts  \\\n",
       "0          619    France  Female   42       2       0.00              1   \n",
       "1          608     Spain  Female   41       1   83807.86              1   \n",
       "2          502    France  Female   42       8  159660.80              3   \n",
       "3          699    France  Female   39       1       0.00              2   \n",
       "4          850     Spain  Female   43       2  125510.82              1   \n",
       "\n",
       "   HasCrCard  IsActiveMember  EstimatedSalary  Exited  \n",
       "0          1               1        101348.88       1  \n",
       "1          0               1        112542.58       0  \n",
       "2          1               0        113931.57       1  \n",
       "3          0               0         93826.63       0  \n",
       "4          1               1         79084.10       0  "
      ]
     },
     "execution_count": 6,
     "metadata": {},
     "output_type": "execute_result"
    }
   ],
   "source": [
    "#dropping of unsuitable variables\n",
    "bank_churn_df=bank_churn_df.drop(['RowNumber','CustomerId','Surname'],axis=1)\n",
    "bank_churn_df.head()"
   ]
  },
  {
   "cell_type": "code",
   "execution_count": 7,
   "id": "e035fca7",
   "metadata": {},
   "outputs": [
    {
     "data": {
      "text/plain": [
       "CreditScore        0\n",
       "Geography          0\n",
       "Gender             0\n",
       "Age                0\n",
       "Tenure             0\n",
       "Balance            0\n",
       "NumOfProducts      0\n",
       "HasCrCard          0\n",
       "IsActiveMember     0\n",
       "EstimatedSalary    0\n",
       "Exited             0\n",
       "dtype: int64"
      ]
     },
     "execution_count": 7,
     "metadata": {},
     "output_type": "execute_result"
    }
   ],
   "source": [
    "# missing values check from bank churn modelling dataset\n",
    "bank_churn_df.isnull().sum()"
   ]
  },
  {
   "cell_type": "code",
   "execution_count": 8,
   "id": "abe0808f",
   "metadata": {},
   "outputs": [
    {
     "name": "stdout",
     "output_type": "stream",
     "text": [
      "As we can see here, there are 0 null values we found from the dataset.\n",
      "No further removal of dirty data is therefore required.\n"
     ]
    }
   ],
   "source": [
    "print('As we can see here, there are',bank_churn_df.isnull().sum().sum(), 'null values we found from the dataset.')\n",
    "print('No further removal of dirty data is therefore required.')"
   ]
  },
  {
   "cell_type": "code",
   "execution_count": 9,
   "id": "3e383ae0",
   "metadata": {},
   "outputs": [
    {
     "data": {
      "text/plain": [
       "{int64: ['CreditScore', 'Age', 'Tenure', 'NumOfProducts', 'HasCrCard', 'IsActiveMember', 'Exited'], float64: ['Balance', 'EstimatedSalary'], object: ['Geography', 'Gender']}"
      ]
     },
     "execution_count": 9,
     "metadata": {},
     "output_type": "execute_result"
    }
   ],
   "source": [
    "#data type of inputs in bank churn modelling dataset\n",
    "bank_churn_df.columns.to_series().groupby(bank_churn_df.dtypes).groups"
   ]
  },
  {
   "cell_type": "code",
   "execution_count": 10,
   "id": "870d2907",
   "metadata": {},
   "outputs": [
    {
     "name": "stdout",
     "output_type": "stream",
     "text": [
      "Therefore, we note that there are 4 catogorial inputs, with the rest being continuous inputs.\n"
     ]
    }
   ],
   "source": [
    "print('Therefore, we note that there are 4 catogorial inputs, with the rest being continuous inputs.')"
   ]
  },
  {
   "cell_type": "markdown",
   "id": "f8b8be7b",
   "metadata": {},
   "source": [
    "### 3. Exploration and Data Analysis\n",
    "\n",
    "This section seeks to make sense of our dataset, in terms of our main outputs and input variables."
   ]
  },
  {
   "cell_type": "code",
   "execution_count": 11,
   "id": "0700d0f1",
   "metadata": {
    "scrolled": true
   },
   "outputs": [
    {
     "data": {
      "text/plain": [
       "Exited\n",
       "0    7963\n",
       "1    2037\n",
       "Name: CreditScore, dtype: int64"
      ]
     },
     "execution_count": 11,
     "metadata": {},
     "output_type": "execute_result"
    }
   ],
   "source": [
    "# checking of churned status in bank churn modelling dataset\n",
    "bank_churn_df.groupby('Exited')['CreditScore'].count()"
   ]
  },
  {
   "cell_type": "code",
   "execution_count": 12,
   "id": "56da462a",
   "metadata": {},
   "outputs": [
    {
     "name": "stdout",
     "output_type": "stream",
     "text": [
      "Proportion of customer retained: 0.7963\n",
      "Proportion of customer exited: 0.2037\n",
      "Therefore, there is a total of 20.4 % of customers that have churned.\n"
     ]
    }
   ],
   "source": [
    "print('Proportion of customer retained:',bank_churn_df.query('Exited==0')['CreditScore'].count()/(bank_churn_df.query('Exited==0')['CreditScore'].count()+bank_churn_df.query('Exited==1')['CreditScore'].count()))\n",
    "print('Proportion of customer exited:',bank_churn_df.query('Exited==1')['CreditScore'].count()/(bank_churn_df.query('Exited==0')['CreditScore'].count()+bank_churn_df.query('Exited==1')['CreditScore'].count()))\n",
    "print('Therefore, there is a total of',round(bank_churn_df.query('Exited==1')['CreditScore'].count()/(bank_churn_df.query('Exited==0')['CreditScore'].count()+bank_churn_df.query('Exited==1')['CreditScore'].count()),3)*100 ,'% of customers that have churned.')"
   ]
  },
  {
   "cell_type": "code",
   "execution_count": 13,
   "id": "5b176519",
   "metadata": {},
   "outputs": [
    {
     "data": {
      "text/plain": [
       "<AxesSubplot:xlabel='IsActiveMember', ylabel='count'>"
      ]
     },
     "execution_count": 13,
     "metadata": {},
     "output_type": "execute_result"
    },
    {
     "data": {
      "image/png": "[encoded data removed]",
      "text/plain": [
       "<Figure size 700x700 with 4 Axes>"
      ]
     },
     "metadata": {},
     "output_type": "display_data"
    }
   ],
   "source": [
    "# checking of categorial variables in bank churn modelling dataset\n",
    "fig, axarr = plt.subplots(2, 2, figsize=(7, 7))\n",
    "sns.countplot(x='Geography', hue = 'Exited',data = bank_churn_df, ax=axarr[0][0])\n",
    "sns.countplot(x='Gender', hue = 'Exited',data = bank_churn_df, ax=axarr[0][1])\n",
    "sns.countplot(x='HasCrCard', hue = 'Exited',data = bank_churn_df, ax=axarr[1][0])\n",
    "sns.countplot(x='IsActiveMember', hue = 'Exited',data = bank_churn_df, ax=axarr[1][1])"
   ]
  },
  {
   "cell_type": "code",
   "execution_count": 14,
   "id": "63fbce29",
   "metadata": {},
   "outputs": [
    {
     "name": "stdout",
     "output_type": "stream",
     "text": [
      "Some things to note:\n",
      "\n",
      "Section 1: Geography\n",
      "- High Population of bank customers from France in dataset.\n",
      "- Inverse Relation of churned customers in small populated areas like Germany.\n",
      "\n",
      "Section 2: Gender\n",
      "- Inverse Relation of churned customers in small populated gender like Female.\n",
      "\n",
      "Section 3: Owns Credit Card\n",
      "- Inverse Relation of churned customers in for customers owning credit card.\n",
      "\n",
      "Section 4: Being an Active Member\n",
      "- Extremely high number of inactive customer base by bank.\n",
      "- Proportional Relationship between churned status of customers and inactive customers.\n"
     ]
    }
   ],
   "source": [
    "print ('Some things to note:')\n",
    "print('')\n",
    "print ('Section 1: Geography')\n",
    "print ('- High Population of bank customers from France in dataset.')\n",
    "print ('- Inverse Relation of churned customers in small populated areas like Germany.')\n",
    "print('')\n",
    "print ('Section 2: Gender')\n",
    "print ('- Inverse Relation of churned customers in small populated gender like Female.')\n",
    "print('')\n",
    "print ('Section 3: Owns Credit Card')\n",
    "print ('- Inverse Relation of churned customers in for customers owning credit card.')\n",
    "print('')\n",
    "print ('Section 4: Being an Active Member')\n",
    "print ('- Extremely high number of inactive customer base by bank.')\n",
    "print ('- Proportional Relationship between churned status of customers and inactive customers.')"
   ]
  },
  {
   "cell_type": "code",
   "execution_count": 15,
   "id": "7ffeae71",
   "metadata": {},
   "outputs": [
    {
     "data": {
      "text/plain": [
       "<AxesSubplot:xlabel='Exited', ylabel='EstimatedSalary'>"
      ]
     },
     "execution_count": 15,
     "metadata": {},
     "output_type": "execute_result"
    },
    {
     "data": {
      "image/png": "[encoded data removed]",
      "text/plain": [
       "<Figure size 1000x1000 with 6 Axes>"
      ]
     },
     "metadata": {},
     "output_type": "display_data"
    }
   ],
   "source": [
    "# checking of continuous variables in bank churn modelling dataset\n",
    "fig, axarr = plt.subplots(3, 2, figsize=(10, 10))\n",
    "sns.boxplot(y='CreditScore',x = 'Exited', hue = 'Exited',data = bank_churn_df, ax=axarr[0][0])\n",
    "sns.boxplot(y='Age',x = 'Exited', hue = 'Exited',data = bank_churn_df , ax=axarr[0][1])\n",
    "sns.boxplot(y='Tenure',x = 'Exited', hue = 'Exited',data = bank_churn_df, ax=axarr[1][0])\n",
    "sns.boxplot(y='Balance',x = 'Exited', hue = 'Exited',data = bank_churn_df, ax=axarr[1][1])\n",
    "sns.boxplot(y='NumOfProducts',x = 'Exited', hue = 'Exited',data = bank_churn_df, ax=axarr[2][0])\n",
    "sns.boxplot(y='EstimatedSalary',x = 'Exited', hue = 'Exited',data = bank_churn_df, ax=axarr[2][1])"
   ]
  },
  {
   "cell_type": "code",
   "execution_count": 16,
   "id": "f3759133",
   "metadata": {
    "scrolled": false
   },
   "outputs": [
    {
     "name": "stdout",
     "output_type": "stream",
     "text": [
      "Some things to note:\n",
      "\n",
      "Section 1: Credit Score\n",
      "- No significant trends between churned customers and customers that retained.\n",
      "\n",
      "Section 2: Age\n",
      "- Older Customers tend to churn more than younger ones.\n",
      "\n",
      "Section 3: Tenure\n",
      "- Customers that are further from the average tenure period then to churn more. They either spend too little or too much time in the banks.\n",
      "\n",
      "Section 4: Bank Balance\n",
      "- Customers with larger amounts of bank balances are more likely to churn.\n",
      "\n",
      "Section 5: Number of Products\n",
      "- No significant trends between churned customers and customers that retained.\n",
      "\n",
      "Section 6: Salary\n",
      "- No significant trends between churned customers and customers that retained.\n"
     ]
    }
   ],
   "source": [
    "print ('Some things to note:')\n",
    "print('')\n",
    "print ('Section 1: Credit Score')\n",
    "print ('- No significant trends between churned customers and customers that retained.')\n",
    "print('')\n",
    "print ('Section 2: Age')\n",
    "print ('- Older Customers tend to churn more than younger ones.')\n",
    "print('')\n",
    "print ('Section 3: Tenure')\n",
    "print ('- Customers that are further from the average tenure period then to churn more. They either spend too little or too much time in the banks.')\n",
    "print('')\n",
    "print ('Section 4: Bank Balance')\n",
    "print ('- Customers with larger amounts of bank balances are more likely to churn.')\n",
    "print('')\n",
    "print ('Section 5: Number of Products')\n",
    "print ('- No significant trends between churned customers and customers that retained.')\n",
    "print('')\n",
    "print ('Section 6: Salary')\n",
    "print ('- No significant trends between churned customers and customers that retained.')"
   ]
  },
  {
   "cell_type": "markdown",
   "id": "39bb6599",
   "metadata": {},
   "source": [
    "### 4. Feature Engineering\n",
    "\n",
    "This section seeks to implement the following:\n",
    "1. Add features that are likely to have an impact on the probability of churning. \n",
    "2. Including train test split approach used for Machine Learning."
   ]
  },
  {
   "cell_type": "code",
   "execution_count": 17,
   "id": "7972b7a5",
   "metadata": {},
   "outputs": [
    {
     "data": {
      "text/plain": [
       "(-1.0, 6.0)"
      ]
     },
     "execution_count": 17,
     "metadata": {},
     "output_type": "execute_result"
    },
    {
     "data": {
      "image/png": "[encoded data removed]",
      "text/plain": [
       "<Figure size 640x480 with 1 Axes>"
      ]
     },
     "metadata": {},
     "output_type": "display_data"
    }
   ],
   "source": [
    "# additional data exploration #1 : Bank Balance VS Salary\n",
    "bank_churn_df['BalanceSalaryRatio'] = bank_churn_df.Balance/bank_churn_df.EstimatedSalary\n",
    "sns.boxplot(y='BalanceSalaryRatio',x = 'Exited', hue = 'Exited',data = bank_churn_df)\n",
    "plt.ylim(-1, 6)"
   ]
  },
  {
   "cell_type": "code",
   "execution_count": 18,
   "id": "54574ccf",
   "metadata": {},
   "outputs": [
    {
     "name": "stdout",
     "output_type": "stream",
     "text": [
      "Some things to note:\n",
      "Even though salary, bank balance have little effect on churn status of customers, % of bank balance over salary shows that higher balance salary ratio are more likely to churn.\n"
     ]
    }
   ],
   "source": [
    "print ('Some things to note:')\n",
    "print ('Even though salary, bank balance have little effect on churn status of customers, % of bank balance over salary shows that higher balance salary ratio are more likely to churn.')"
   ]
  },
  {
   "cell_type": "code",
   "execution_count": 19,
   "id": "b10be837",
   "metadata": {},
   "outputs": [
    {
     "data": {
      "image/png": "[encoded data removed]",
      "text/plain": [
       "<Figure size 640x480 with 1 Axes>"
      ]
     },
     "metadata": {},
     "output_type": "display_data"
    }
   ],
   "source": [
    "# additional data exploration #2 : Tenure VS Age\n",
    "bank_churn_df['TenureByAge'] = bank_churn_df.Tenure/(bank_churn_df.Age)\n",
    "sns.boxplot(y='TenureByAge',x = 'Exited', hue = 'Exited',data = bank_churn_df)\n",
    "plt.ylim(-1, 1)\n",
    "plt.show()"
   ]
  },
  {
   "cell_type": "code",
   "execution_count": 20,
   "id": "ebdfab1a",
   "metadata": {},
   "outputs": [
    {
     "name": "stdout",
     "output_type": "stream",
     "text": [
      "Some things to note:\n",
      "Tenure is highly correlated with Age, this thus requires some form of normalisation.\n"
     ]
    }
   ],
   "source": [
    "print ('Some things to note:')\n",
    "print ('Tenure is highly correlated with Age, this thus requires some form of normalisation.')"
   ]
  },
  {
   "cell_type": "code",
   "execution_count": 21,
   "id": "58b9015b",
   "metadata": {},
   "outputs": [],
   "source": [
    "# additional data exploration #3 : Credit VS Age\n",
    "bank_churn_df['CreditScoreGivenAge'] = bank_churn_df.CreditScore/bank_churn_df.Age"
   ]
  },
  {
   "cell_type": "code",
   "execution_count": 22,
   "id": "45a730b0",
   "metadata": {},
   "outputs": [
    {
     "name": "stdout",
     "output_type": "stream",
     "text": [
      "Some things to note:\n",
      "We will like to take into account the credit behaviour of customers over time, based on their age.\n"
     ]
    }
   ],
   "source": [
    "print ('Some things to note:')\n",
    "print ('We will like to take into account the credit behaviour of customers over time, based on their age.')"
   ]
  },
  {
   "cell_type": "code",
   "execution_count": 23,
   "id": "5fb5896c",
   "metadata": {
    "scrolled": true
   },
   "outputs": [
    {
     "name": "stdout",
     "output_type": "stream",
     "text": [
      "total length of training dataset: 8000\n",
      "total length of testing dataset: 2000\n"
     ]
    }
   ],
   "source": [
    "# train test split \n",
    "df_train =bank_churn_df.sample(frac=0.8,random_state=200)\n",
    "df_test = bank_churn_df.drop(df_train.index)\n",
    "print('total length of training dataset:',len(df_train))\n",
    "print('total length of testing dataset:',len(df_test))"
   ]
  },
  {
   "cell_type": "code",
   "execution_count": 24,
   "id": "cd8ebb0b",
   "metadata": {},
   "outputs": [
    {
     "data": {
      "text/html": [
       "<div>\n",
       "<style scoped>\n",
       "    .dataframe tbody tr th:only-of-type {\n",
       "        vertical-align: middle;\n",
       "    }\n",
       "\n",
       "    .dataframe tbody tr th {\n",
       "        vertical-align: top;\n",
       "    }\n",
       "\n",
       "    .dataframe thead th {\n",
       "        text-align: right;\n",
       "    }\n",
       "</style>\n",
       "<table border=\"1\" class=\"dataframe\">\n",
       "  <thead>\n",
       "    <tr style=\"text-align: right;\">\n",
       "      <th></th>\n",
       "      <th>CreditScore</th>\n",
       "      <th>Geography</th>\n",
       "      <th>Gender</th>\n",
       "      <th>Age</th>\n",
       "      <th>Tenure</th>\n",
       "      <th>Balance</th>\n",
       "      <th>NumOfProducts</th>\n",
       "      <th>HasCrCard</th>\n",
       "      <th>IsActiveMember</th>\n",
       "      <th>EstimatedSalary</th>\n",
       "      <th>Exited</th>\n",
       "      <th>BalanceSalaryRatio</th>\n",
       "      <th>TenureByAge</th>\n",
       "      <th>CreditScoreGivenAge</th>\n",
       "    </tr>\n",
       "  </thead>\n",
       "  <tbody>\n",
       "    <tr>\n",
       "      <th>8159</th>\n",
       "      <td>461</td>\n",
       "      <td>Spain</td>\n",
       "      <td>Female</td>\n",
       "      <td>25</td>\n",
       "      <td>6</td>\n",
       "      <td>0.00</td>\n",
       "      <td>2</td>\n",
       "      <td>1</td>\n",
       "      <td>1</td>\n",
       "      <td>15306.29</td>\n",
       "      <td>0</td>\n",
       "      <td>0.000000</td>\n",
       "      <td>0.240000</td>\n",
       "      <td>18.440000</td>\n",
       "    </tr>\n",
       "    <tr>\n",
       "      <th>6332</th>\n",
       "      <td>619</td>\n",
       "      <td>France</td>\n",
       "      <td>Female</td>\n",
       "      <td>35</td>\n",
       "      <td>4</td>\n",
       "      <td>90413.12</td>\n",
       "      <td>1</td>\n",
       "      <td>1</td>\n",
       "      <td>1</td>\n",
       "      <td>20555.21</td>\n",
       "      <td>0</td>\n",
       "      <td>4.398550</td>\n",
       "      <td>0.114286</td>\n",
       "      <td>17.685714</td>\n",
       "    </tr>\n",
       "    <tr>\n",
       "      <th>8895</th>\n",
       "      <td>699</td>\n",
       "      <td>France</td>\n",
       "      <td>Female</td>\n",
       "      <td>40</td>\n",
       "      <td>8</td>\n",
       "      <td>122038.34</td>\n",
       "      <td>1</td>\n",
       "      <td>1</td>\n",
       "      <td>0</td>\n",
       "      <td>102085.35</td>\n",
       "      <td>0</td>\n",
       "      <td>1.195454</td>\n",
       "      <td>0.200000</td>\n",
       "      <td>17.475000</td>\n",
       "    </tr>\n",
       "    <tr>\n",
       "      <th>5351</th>\n",
       "      <td>558</td>\n",
       "      <td>Germany</td>\n",
       "      <td>Male</td>\n",
       "      <td>41</td>\n",
       "      <td>2</td>\n",
       "      <td>124227.14</td>\n",
       "      <td>1</td>\n",
       "      <td>1</td>\n",
       "      <td>1</td>\n",
       "      <td>111184.67</td>\n",
       "      <td>0</td>\n",
       "      <td>1.117305</td>\n",
       "      <td>0.048780</td>\n",
       "      <td>13.609756</td>\n",
       "    </tr>\n",
       "    <tr>\n",
       "      <th>4314</th>\n",
       "      <td>638</td>\n",
       "      <td>France</td>\n",
       "      <td>Male</td>\n",
       "      <td>34</td>\n",
       "      <td>5</td>\n",
       "      <td>133501.36</td>\n",
       "      <td>1</td>\n",
       "      <td>0</td>\n",
       "      <td>1</td>\n",
       "      <td>155643.04</td>\n",
       "      <td>0</td>\n",
       "      <td>0.857741</td>\n",
       "      <td>0.147059</td>\n",
       "      <td>18.764706</td>\n",
       "    </tr>\n",
       "  </tbody>\n",
       "</table>\n",
       "</div>"
      ],
      "text/plain": [
       "      CreditScore Geography  Gender  Age  Tenure    Balance  NumOfProducts  \\\n",
       "8159          461     Spain  Female   25       6       0.00              2   \n",
       "6332          619    France  Female   35       4   90413.12              1   \n",
       "8895          699    France  Female   40       8  122038.34              1   \n",
       "5351          558   Germany    Male   41       2  124227.14              1   \n",
       "4314          638    France    Male   34       5  133501.36              1   \n",
       "\n",
       "      HasCrCard  IsActiveMember  EstimatedSalary  Exited  BalanceSalaryRatio  \\\n",
       "8159          1               1         15306.29       0            0.000000   \n",
       "6332          1               1         20555.21       0            4.398550   \n",
       "8895          1               0        102085.35       0            1.195454   \n",
       "5351          1               1        111184.67       0            1.117305   \n",
       "4314          0               1        155643.04       0            0.857741   \n",
       "\n",
       "      TenureByAge  CreditScoreGivenAge  \n",
       "8159     0.240000            18.440000  \n",
       "6332     0.114286            17.685714  \n",
       "8895     0.200000            17.475000  \n",
       "5351     0.048780            13.609756  \n",
       "4314     0.147059            18.764706  "
      ]
     },
     "execution_count": 24,
     "metadata": {},
     "output_type": "execute_result"
    }
   ],
   "source": [
    "df_train.head()"
   ]
  },
  {
   "cell_type": "markdown",
   "id": "a7a22eec",
   "metadata": {},
   "source": [
    "### 5. Data Processing and Preparation\n",
    "\n",
    "This section seeks to implement the following:\n",
    "1. Processing of raw data for model fitting purposes."
   ]
  },
  {
   "cell_type": "code",
   "execution_count": 25,
   "id": "3d9bd0f0",
   "metadata": {},
   "outputs": [
    {
     "data": {
      "text/html": [
       "<div>\n",
       "<style scoped>\n",
       "    .dataframe tbody tr th:only-of-type {\n",
       "        vertical-align: middle;\n",
       "    }\n",
       "\n",
       "    .dataframe tbody tr th {\n",
       "        vertical-align: top;\n",
       "    }\n",
       "\n",
       "    .dataframe thead th {\n",
       "        text-align: right;\n",
       "    }\n",
       "</style>\n",
       "<table border=\"1\" class=\"dataframe\">\n",
       "  <thead>\n",
       "    <tr style=\"text-align: right;\">\n",
       "      <th></th>\n",
       "      <th>Exited</th>\n",
       "      <th>CreditScore</th>\n",
       "      <th>Age</th>\n",
       "      <th>Tenure</th>\n",
       "      <th>Balance</th>\n",
       "      <th>NumOfProducts</th>\n",
       "      <th>EstimatedSalary</th>\n",
       "      <th>BalanceSalaryRatio</th>\n",
       "      <th>TenureByAge</th>\n",
       "      <th>CreditScoreGivenAge</th>\n",
       "      <th>HasCrCard</th>\n",
       "      <th>IsActiveMember</th>\n",
       "      <th>Geography</th>\n",
       "      <th>Gender</th>\n",
       "    </tr>\n",
       "  </thead>\n",
       "  <tbody>\n",
       "    <tr>\n",
       "      <th>8159</th>\n",
       "      <td>0</td>\n",
       "      <td>461</td>\n",
       "      <td>25</td>\n",
       "      <td>6</td>\n",
       "      <td>0.00</td>\n",
       "      <td>2</td>\n",
       "      <td>15306.29</td>\n",
       "      <td>0.000000</td>\n",
       "      <td>0.240000</td>\n",
       "      <td>18.440000</td>\n",
       "      <td>1</td>\n",
       "      <td>1</td>\n",
       "      <td>Spain</td>\n",
       "      <td>Female</td>\n",
       "    </tr>\n",
       "    <tr>\n",
       "      <th>6332</th>\n",
       "      <td>0</td>\n",
       "      <td>619</td>\n",
       "      <td>35</td>\n",
       "      <td>4</td>\n",
       "      <td>90413.12</td>\n",
       "      <td>1</td>\n",
       "      <td>20555.21</td>\n",
       "      <td>4.398550</td>\n",
       "      <td>0.114286</td>\n",
       "      <td>17.685714</td>\n",
       "      <td>1</td>\n",
       "      <td>1</td>\n",
       "      <td>France</td>\n",
       "      <td>Female</td>\n",
       "    </tr>\n",
       "    <tr>\n",
       "      <th>8895</th>\n",
       "      <td>0</td>\n",
       "      <td>699</td>\n",
       "      <td>40</td>\n",
       "      <td>8</td>\n",
       "      <td>122038.34</td>\n",
       "      <td>1</td>\n",
       "      <td>102085.35</td>\n",
       "      <td>1.195454</td>\n",
       "      <td>0.200000</td>\n",
       "      <td>17.475000</td>\n",
       "      <td>1</td>\n",
       "      <td>0</td>\n",
       "      <td>France</td>\n",
       "      <td>Female</td>\n",
       "    </tr>\n",
       "    <tr>\n",
       "      <th>5351</th>\n",
       "      <td>0</td>\n",
       "      <td>558</td>\n",
       "      <td>41</td>\n",
       "      <td>2</td>\n",
       "      <td>124227.14</td>\n",
       "      <td>1</td>\n",
       "      <td>111184.67</td>\n",
       "      <td>1.117305</td>\n",
       "      <td>0.048780</td>\n",
       "      <td>13.609756</td>\n",
       "      <td>1</td>\n",
       "      <td>1</td>\n",
       "      <td>Germany</td>\n",
       "      <td>Male</td>\n",
       "    </tr>\n",
       "    <tr>\n",
       "      <th>4314</th>\n",
       "      <td>0</td>\n",
       "      <td>638</td>\n",
       "      <td>34</td>\n",
       "      <td>5</td>\n",
       "      <td>133501.36</td>\n",
       "      <td>1</td>\n",
       "      <td>155643.04</td>\n",
       "      <td>0.857741</td>\n",
       "      <td>0.147059</td>\n",
       "      <td>18.764706</td>\n",
       "      <td>0</td>\n",
       "      <td>1</td>\n",
       "      <td>France</td>\n",
       "      <td>Male</td>\n",
       "    </tr>\n",
       "  </tbody>\n",
       "</table>\n",
       "</div>"
      ],
      "text/plain": [
       "      Exited  CreditScore  Age  Tenure    Balance  NumOfProducts  \\\n",
       "8159       0          461   25       6       0.00              2   \n",
       "6332       0          619   35       4   90413.12              1   \n",
       "8895       0          699   40       8  122038.34              1   \n",
       "5351       0          558   41       2  124227.14              1   \n",
       "4314       0          638   34       5  133501.36              1   \n",
       "\n",
       "      EstimatedSalary  BalanceSalaryRatio  TenureByAge  CreditScoreGivenAge  \\\n",
       "8159         15306.29            0.000000     0.240000            18.440000   \n",
       "6332         20555.21            4.398550     0.114286            17.685714   \n",
       "8895        102085.35            1.195454     0.200000            17.475000   \n",
       "5351        111184.67            1.117305     0.048780            13.609756   \n",
       "4314        155643.04            0.857741     0.147059            18.764706   \n",
       "\n",
       "      HasCrCard  IsActiveMember Geography  Gender  \n",
       "8159          1               1     Spain  Female  \n",
       "6332          1               1    France  Female  \n",
       "8895          1               0    France  Female  \n",
       "5351          1               1   Germany    Male  \n",
       "4314          0               1    France    Male  "
      ]
     },
     "execution_count": 25,
     "metadata": {},
     "output_type": "execute_result"
    }
   ],
   "source": [
    "#changing of order of variables\n",
    "continuous_vars = ['CreditScore',  'Age', 'Tenure', 'Balance','NumOfProducts', 'EstimatedSalary', 'BalanceSalaryRatio',\n",
    "                   'TenureByAge','CreditScoreGivenAge']\n",
    "cat_vars = ['HasCrCard', 'IsActiveMember','Geography', 'Gender']\n",
    "df_train = df_train[['Exited'] + continuous_vars + cat_vars]\n",
    "df_train.head()"
   ]
  },
  {
   "cell_type": "code",
   "execution_count": 26,
   "id": "dae5d0fe",
   "metadata": {
    "scrolled": true
   },
   "outputs": [
    {
     "data": {
      "text/html": [
       "<div>\n",
       "<style scoped>\n",
       "    .dataframe tbody tr th:only-of-type {\n",
       "        vertical-align: middle;\n",
       "    }\n",
       "\n",
       "    .dataframe tbody tr th {\n",
       "        vertical-align: top;\n",
       "    }\n",
       "\n",
       "    .dataframe thead th {\n",
       "        text-align: right;\n",
       "    }\n",
       "</style>\n",
       "<table border=\"1\" class=\"dataframe\">\n",
       "  <thead>\n",
       "    <tr style=\"text-align: right;\">\n",
       "      <th></th>\n",
       "      <th>Exited</th>\n",
       "      <th>CreditScore</th>\n",
       "      <th>Age</th>\n",
       "      <th>Tenure</th>\n",
       "      <th>Balance</th>\n",
       "      <th>NumOfProducts</th>\n",
       "      <th>EstimatedSalary</th>\n",
       "      <th>BalanceSalaryRatio</th>\n",
       "      <th>TenureByAge</th>\n",
       "      <th>CreditScoreGivenAge</th>\n",
       "      <th>HasCrCard</th>\n",
       "      <th>IsActiveMember</th>\n",
       "      <th>Gender_Female</th>\n",
       "      <th>Gender_Male</th>\n",
       "      <th>Geography_Spain</th>\n",
       "      <th>Geography_France</th>\n",
       "      <th>Geography_Germany</th>\n",
       "    </tr>\n",
       "  </thead>\n",
       "  <tbody>\n",
       "    <tr>\n",
       "      <th>8159</th>\n",
       "      <td>0</td>\n",
       "      <td>461</td>\n",
       "      <td>25</td>\n",
       "      <td>6</td>\n",
       "      <td>0.00</td>\n",
       "      <td>2</td>\n",
       "      <td>15306.29</td>\n",
       "      <td>0.000000</td>\n",
       "      <td>0.240000</td>\n",
       "      <td>18.440000</td>\n",
       "      <td>1</td>\n",
       "      <td>1</td>\n",
       "      <td>1</td>\n",
       "      <td>-1</td>\n",
       "      <td>1</td>\n",
       "      <td>-1</td>\n",
       "      <td>-1</td>\n",
       "    </tr>\n",
       "    <tr>\n",
       "      <th>6332</th>\n",
       "      <td>0</td>\n",
       "      <td>619</td>\n",
       "      <td>35</td>\n",
       "      <td>4</td>\n",
       "      <td>90413.12</td>\n",
       "      <td>1</td>\n",
       "      <td>20555.21</td>\n",
       "      <td>4.398550</td>\n",
       "      <td>0.114286</td>\n",
       "      <td>17.685714</td>\n",
       "      <td>1</td>\n",
       "      <td>1</td>\n",
       "      <td>1</td>\n",
       "      <td>-1</td>\n",
       "      <td>-1</td>\n",
       "      <td>1</td>\n",
       "      <td>-1</td>\n",
       "    </tr>\n",
       "    <tr>\n",
       "      <th>8895</th>\n",
       "      <td>0</td>\n",
       "      <td>699</td>\n",
       "      <td>40</td>\n",
       "      <td>8</td>\n",
       "      <td>122038.34</td>\n",
       "      <td>1</td>\n",
       "      <td>102085.35</td>\n",
       "      <td>1.195454</td>\n",
       "      <td>0.200000</td>\n",
       "      <td>17.475000</td>\n",
       "      <td>1</td>\n",
       "      <td>-1</td>\n",
       "      <td>1</td>\n",
       "      <td>-1</td>\n",
       "      <td>-1</td>\n",
       "      <td>1</td>\n",
       "      <td>-1</td>\n",
       "    </tr>\n",
       "    <tr>\n",
       "      <th>5351</th>\n",
       "      <td>0</td>\n",
       "      <td>558</td>\n",
       "      <td>41</td>\n",
       "      <td>2</td>\n",
       "      <td>124227.14</td>\n",
       "      <td>1</td>\n",
       "      <td>111184.67</td>\n",
       "      <td>1.117305</td>\n",
       "      <td>0.048780</td>\n",
       "      <td>13.609756</td>\n",
       "      <td>1</td>\n",
       "      <td>1</td>\n",
       "      <td>-1</td>\n",
       "      <td>1</td>\n",
       "      <td>-1</td>\n",
       "      <td>-1</td>\n",
       "      <td>1</td>\n",
       "    </tr>\n",
       "    <tr>\n",
       "      <th>4314</th>\n",
       "      <td>0</td>\n",
       "      <td>638</td>\n",
       "      <td>34</td>\n",
       "      <td>5</td>\n",
       "      <td>133501.36</td>\n",
       "      <td>1</td>\n",
       "      <td>155643.04</td>\n",
       "      <td>0.857741</td>\n",
       "      <td>0.147059</td>\n",
       "      <td>18.764706</td>\n",
       "      <td>-1</td>\n",
       "      <td>1</td>\n",
       "      <td>-1</td>\n",
       "      <td>1</td>\n",
       "      <td>-1</td>\n",
       "      <td>1</td>\n",
       "      <td>-1</td>\n",
       "    </tr>\n",
       "  </tbody>\n",
       "</table>\n",
       "</div>"
      ],
      "text/plain": [
       "      Exited  CreditScore  Age  Tenure    Balance  NumOfProducts  \\\n",
       "8159       0          461   25       6       0.00              2   \n",
       "6332       0          619   35       4   90413.12              1   \n",
       "8895       0          699   40       8  122038.34              1   \n",
       "5351       0          558   41       2  124227.14              1   \n",
       "4314       0          638   34       5  133501.36              1   \n",
       "\n",
       "      EstimatedSalary  BalanceSalaryRatio  TenureByAge  CreditScoreGivenAge  \\\n",
       "8159         15306.29            0.000000     0.240000            18.440000   \n",
       "6332         20555.21            4.398550     0.114286            17.685714   \n",
       "8895        102085.35            1.195454     0.200000            17.475000   \n",
       "5351        111184.67            1.117305     0.048780            13.609756   \n",
       "4314        155643.04            0.857741     0.147059            18.764706   \n",
       "\n",
       "      HasCrCard  IsActiveMember  Gender_Female  Gender_Male  Geography_Spain  \\\n",
       "8159          1               1              1           -1                1   \n",
       "6332          1               1              1           -1               -1   \n",
       "8895          1              -1              1           -1               -1   \n",
       "5351          1               1             -1            1               -1   \n",
       "4314         -1               1             -1            1               -1   \n",
       "\n",
       "      Geography_France  Geography_Germany  \n",
       "8159                -1                 -1  \n",
       "6332                 1                 -1  \n",
       "8895                 1                 -1  \n",
       "5351                -1                  1  \n",
       "4314                 1                 -1  "
      ]
     },
     "execution_count": 26,
     "metadata": {},
     "output_type": "execute_result"
    }
   ],
   "source": [
    "#implementing one hot encoding for categorical variables\n",
    "\n",
    "# 2 dummy variables component, credit card\n",
    "df_train.loc[df_train.HasCrCard == 0, 'HasCrCard'] = -1\n",
    "\n",
    "# 2 dummy variables component, active member status\n",
    "df_train.loc[df_train.IsActiveMember == 0, 'IsActiveMember'] = -1\n",
    "\n",
    "# 2 dummy variables component, gender\n",
    "df_train['Gender_Female']=np.where(df_train['Gender']=='Female',1,-1)\n",
    "df_train['Gender_Male']=np.where(df_train['Gender']=='Male',1,-1)\n",
    "\n",
    "# 3 dummy variables component, geography\n",
    "df_train['Geography_Spain']=np.where(df_train['Geography']=='Spain',1,-1)\n",
    "df_train['Geography_France']=np.where(df_train['Geography']=='France',1,-1)\n",
    "df_train['Geography_Germany']=np.where(df_train['Geography']=='Germany',1,-1)\n",
    "\n",
    "df_train=df_train.drop(['Geography','Gender'],axis=1)\n",
    "df_train.head()"
   ]
  },
  {
   "cell_type": "code",
   "execution_count": 27,
   "id": "3ca3ba1f",
   "metadata": {},
   "outputs": [
    {
     "data": {
      "text/html": [
       "<div>\n",
       "<style scoped>\n",
       "    .dataframe tbody tr th:only-of-type {\n",
       "        vertical-align: middle;\n",
       "    }\n",
       "\n",
       "    .dataframe tbody tr th {\n",
       "        vertical-align: top;\n",
       "    }\n",
       "\n",
       "    .dataframe thead th {\n",
       "        text-align: right;\n",
       "    }\n",
       "</style>\n",
       "<table border=\"1\" class=\"dataframe\">\n",
       "  <thead>\n",
       "    <tr style=\"text-align: right;\">\n",
       "      <th></th>\n",
       "      <th>Exited</th>\n",
       "      <th>CreditScore</th>\n",
       "      <th>Age</th>\n",
       "      <th>Tenure</th>\n",
       "      <th>Balance</th>\n",
       "      <th>NumOfProducts</th>\n",
       "      <th>EstimatedSalary</th>\n",
       "      <th>BalanceSalaryRatio</th>\n",
       "      <th>TenureByAge</th>\n",
       "      <th>CreditScoreGivenAge</th>\n",
       "      <th>HasCrCard</th>\n",
       "      <th>IsActiveMember</th>\n",
       "      <th>Gender_Female</th>\n",
       "      <th>Gender_Male</th>\n",
       "      <th>Geography_Spain</th>\n",
       "      <th>Geography_France</th>\n",
       "      <th>Geography_Germany</th>\n",
       "    </tr>\n",
       "  </thead>\n",
       "  <tbody>\n",
       "    <tr>\n",
       "      <th>8159</th>\n",
       "      <td>0</td>\n",
       "      <td>0.222</td>\n",
       "      <td>0.094595</td>\n",
       "      <td>0.6</td>\n",
       "      <td>0.000000</td>\n",
       "      <td>0.333333</td>\n",
       "      <td>0.076118</td>\n",
       "      <td>0.000000</td>\n",
       "      <td>0.432000</td>\n",
       "      <td>0.323157</td>\n",
       "      <td>1</td>\n",
       "      <td>1</td>\n",
       "      <td>1</td>\n",
       "      <td>-1</td>\n",
       "      <td>1</td>\n",
       "      <td>-1</td>\n",
       "      <td>-1</td>\n",
       "    </tr>\n",
       "    <tr>\n",
       "      <th>6332</th>\n",
       "      <td>0</td>\n",
       "      <td>0.538</td>\n",
       "      <td>0.229730</td>\n",
       "      <td>0.4</td>\n",
       "      <td>0.360358</td>\n",
       "      <td>0.000000</td>\n",
       "      <td>0.102376</td>\n",
       "      <td>0.003317</td>\n",
       "      <td>0.205714</td>\n",
       "      <td>0.305211</td>\n",
       "      <td>1</td>\n",
       "      <td>1</td>\n",
       "      <td>1</td>\n",
       "      <td>-1</td>\n",
       "      <td>-1</td>\n",
       "      <td>1</td>\n",
       "      <td>-1</td>\n",
       "    </tr>\n",
       "    <tr>\n",
       "      <th>8895</th>\n",
       "      <td>0</td>\n",
       "      <td>0.698</td>\n",
       "      <td>0.297297</td>\n",
       "      <td>0.8</td>\n",
       "      <td>0.486406</td>\n",
       "      <td>0.000000</td>\n",
       "      <td>0.510225</td>\n",
       "      <td>0.000901</td>\n",
       "      <td>0.360000</td>\n",
       "      <td>0.300198</td>\n",
       "      <td>1</td>\n",
       "      <td>-1</td>\n",
       "      <td>1</td>\n",
       "      <td>-1</td>\n",
       "      <td>-1</td>\n",
       "      <td>1</td>\n",
       "      <td>-1</td>\n",
       "    </tr>\n",
       "    <tr>\n",
       "      <th>5351</th>\n",
       "      <td>0</td>\n",
       "      <td>0.416</td>\n",
       "      <td>0.310811</td>\n",
       "      <td>0.2</td>\n",
       "      <td>0.495130</td>\n",
       "      <td>0.000000</td>\n",
       "      <td>0.555744</td>\n",
       "      <td>0.000843</td>\n",
       "      <td>0.087805</td>\n",
       "      <td>0.208238</td>\n",
       "      <td>1</td>\n",
       "      <td>1</td>\n",
       "      <td>-1</td>\n",
       "      <td>1</td>\n",
       "      <td>-1</td>\n",
       "      <td>-1</td>\n",
       "      <td>1</td>\n",
       "    </tr>\n",
       "    <tr>\n",
       "      <th>4314</th>\n",
       "      <td>0</td>\n",
       "      <td>0.576</td>\n",
       "      <td>0.216216</td>\n",
       "      <td>0.5</td>\n",
       "      <td>0.532094</td>\n",
       "      <td>0.000000</td>\n",
       "      <td>0.778145</td>\n",
       "      <td>0.000647</td>\n",
       "      <td>0.264706</td>\n",
       "      <td>0.330882</td>\n",
       "      <td>-1</td>\n",
       "      <td>1</td>\n",
       "      <td>-1</td>\n",
       "      <td>1</td>\n",
       "      <td>-1</td>\n",
       "      <td>1</td>\n",
       "      <td>-1</td>\n",
       "    </tr>\n",
       "  </tbody>\n",
       "</table>\n",
       "</div>"
      ],
      "text/plain": [
       "      Exited  CreditScore       Age  Tenure   Balance  NumOfProducts  \\\n",
       "8159       0        0.222  0.094595     0.6  0.000000       0.333333   \n",
       "6332       0        0.538  0.229730     0.4  0.360358       0.000000   \n",
       "8895       0        0.698  0.297297     0.8  0.486406       0.000000   \n",
       "5351       0        0.416  0.310811     0.2  0.495130       0.000000   \n",
       "4314       0        0.576  0.216216     0.5  0.532094       0.000000   \n",
       "\n",
       "      EstimatedSalary  BalanceSalaryRatio  TenureByAge  CreditScoreGivenAge  \\\n",
       "8159         0.076118            0.000000     0.432000             0.323157   \n",
       "6332         0.102376            0.003317     0.205714             0.305211   \n",
       "8895         0.510225            0.000901     0.360000             0.300198   \n",
       "5351         0.555744            0.000843     0.087805             0.208238   \n",
       "4314         0.778145            0.000647     0.264706             0.330882   \n",
       "\n",
       "      HasCrCard  IsActiveMember  Gender_Female  Gender_Male  Geography_Spain  \\\n",
       "8159          1               1              1           -1                1   \n",
       "6332          1               1              1           -1               -1   \n",
       "8895          1              -1              1           -1               -1   \n",
       "5351          1               1             -1            1               -1   \n",
       "4314         -1               1             -1            1               -1   \n",
       "\n",
       "      Geography_France  Geography_Germany  \n",
       "8159                -1                 -1  \n",
       "6332                 1                 -1  \n",
       "8895                 1                 -1  \n",
       "5351                -1                  1  \n",
       "4314                 1                 -1  "
      ]
     },
     "execution_count": 27,
     "metadata": {},
     "output_type": "execute_result"
    }
   ],
   "source": [
    "# minmax scaling the continuous variables\n",
    "minVec = df_train[continuous_vars].min().copy()\n",
    "maxVec = df_train[continuous_vars].max().copy()\n",
    "df_train[continuous_vars] = (df_train[continuous_vars]-minVec)/(maxVec-minVec)\n",
    "df_train.head()"
   ]
  },
  {
   "cell_type": "markdown",
   "id": "cb12fdd4",
   "metadata": {},
   "source": [
    "### 6. Model Fitting and Selection\n",
    "\n",
    "This section seeks to implement the following:\n",
    "1. Fitting of training data into 3 algorithms, namely logisitic, SVM and Random Forest Classifier.\n",
    "2. Getting the best model from all 3 algorithims best on accuracy score."
   ]
  },
  {
   "cell_type": "code",
   "execution_count": 54,
   "id": "04b27faa",
   "metadata": {},
   "outputs": [],
   "source": [
    "# Support functions\n",
    "from sklearn.preprocessing import PolynomialFeatures\n",
    "from sklearn.model_selection import cross_val_score\n",
    "from sklearn.model_selection import GridSearchCV\n",
    "from scipy.stats import uniform\n",
    "\n",
    "# Fit models\n",
    "from sklearn.linear_model import LogisticRegression\n",
    "from sklearn.svm import SVC\n",
    "from sklearn.ensemble import RandomForestClassifier\n",
    "\n",
    "# Scoring functions\n",
    "from sklearn.metrics import accuracy_score\n",
    "from sklearn.metrics import classification_report"
   ]
  },
  {
   "cell_type": "code",
   "execution_count": 29,
   "id": "0d17270e",
   "metadata": {},
   "outputs": [],
   "source": [
    "# Function to give best model score and parameters\n",
    "def best_model(model):\n",
    "    print(model.best_score_)    \n",
    "    print(model.best_params_)\n",
    "    print(model.best_estimator_)\n",
    "    \n",
    "def get_auc_scores(y_actual, method,method2):\n",
    "    auc_score = roc_auc_score(y_actual, method); \n",
    "    fpr_df, tpr_df, _ = roc_curve(y_actual, method2); \n",
    "    return (auc_score, fpr_df, tpr_df)"
   ]
  },
  {
   "cell_type": "markdown",
   "id": "d6614f87",
   "metadata": {},
   "source": [
    "#### Method 1: Logistic Regression"
   ]
  },
  {
   "cell_type": "code",
   "execution_count": 30,
   "id": "94372787",
   "metadata": {
    "scrolled": true
   },
   "outputs": [
    {
     "name": "stdout",
     "output_type": "stream",
     "text": [
      "0.81525\n",
      "{'C': 150, 'fit_intercept': True, 'intercept_scaling': 1, 'max_iter': 250, 'penalty': 'l2', 'tol': 1e-05}\n",
      "LogisticRegression(C=150, max_iter=250, tol=1e-05)\n"
     ]
    }
   ],
   "source": [
    "# hyperparameter tuning for logistic regression\n",
    "param_grid = {'C': [0.1,0.5,1,10,50,100,150], 'max_iter': [250], 'fit_intercept':[True],'intercept_scaling':[1],\n",
    "              'penalty':['l2'], 'tol':[0.00001,0.0001,0.000001]}\n",
    "log_primal_Grid = GridSearchCV(LogisticRegression(solver='lbfgs'),param_grid, cv=10, refit=True, verbose=0)\n",
    "log_primal_Grid.fit(df_train.loc[:, df_train.columns != 'Exited'],df_train.Exited)\n",
    "best_model(log_primal_Grid)"
   ]
  },
  {
   "cell_type": "code",
   "execution_count": 33,
   "id": "f7a20f14",
   "metadata": {},
   "outputs": [
    {
     "data": {
      "text/html": [
       "<style>#sk-container-id-1 {color: black;background-color: white;}#sk-container-id-1 pre{padding: 0;}#sk-container-id-1 div.sk-toggleable {background-color: white;}#sk-container-id-1 label.sk-toggleable__label {cursor: pointer;display: block;width: 100%;margin-bottom: 0;padding: 0.3em;box-sizing: border-box;text-align: center;}#sk-container-id-1 label.sk-toggleable__label-arrow:before {content: \"▸\";float: left;margin-right: 0.25em;color: #696969;}#sk-container-id-1 label.sk-toggleable__label-arrow:hover:before {color: black;}#sk-container-id-1 div.sk-estimator:hover label.sk-toggleable__label-arrow:before {color: black;}#sk-container-id-1 div.sk-toggleable__content {max-height: 0;max-width: 0;overflow: hidden;text-align: left;background-color: #f0f8ff;}#sk-container-id-1 div.sk-toggleable__content pre {margin: 0.2em;color: black;border-radius: 0.25em;background-color: #f0f8ff;}#sk-container-id-1 input.sk-toggleable__control:checked~div.sk-toggleable__content {max-height: 200px;max-width: 100%;overflow: auto;}#sk-container-id-1 input.sk-toggleable__control:checked~label.sk-toggleable__label-arrow:before {content: \"▾\";}#sk-container-id-1 div.sk-estimator input.sk-toggleable__control:checked~label.sk-toggleable__label {background-color: #d4ebff;}#sk-container-id-1 div.sk-label input.sk-toggleable__control:checked~label.sk-toggleable__label {background-color: #d4ebff;}#sk-container-id-1 input.sk-hidden--visually {border: 0;clip: rect(1px 1px 1px 1px);clip: rect(1px, 1px, 1px, 1px);height: 1px;margin: -1px;overflow: hidden;padding: 0;position: absolute;width: 1px;}#sk-container-id-1 div.sk-estimator {font-family: monospace;background-color: #f0f8ff;border: 1px dotted black;border-radius: 0.25em;box-sizing: border-box;margin-bottom: 0.5em;}#sk-container-id-1 div.sk-estimator:hover {background-color: #d4ebff;}#sk-container-id-1 div.sk-parallel-item::after {content: \"\";width: 100%;border-bottom: 1px solid gray;flex-grow: 1;}#sk-container-id-1 div.sk-label:hover label.sk-toggleable__label {background-color: #d4ebff;}#sk-container-id-1 div.sk-serial::before {content: \"\";position: absolute;border-left: 1px solid gray;box-sizing: border-box;top: 0;bottom: 0;left: 50%;z-index: 0;}#sk-container-id-1 div.sk-serial {display: flex;flex-direction: column;align-items: center;background-color: white;padding-right: 0.2em;padding-left: 0.2em;position: relative;}#sk-container-id-1 div.sk-item {position: relative;z-index: 1;}#sk-container-id-1 div.sk-parallel {display: flex;align-items: stretch;justify-content: center;background-color: white;position: relative;}#sk-container-id-1 div.sk-item::before, #sk-container-id-1 div.sk-parallel-item::before {content: \"\";position: absolute;border-left: 1px solid gray;box-sizing: border-box;top: 0;bottom: 0;left: 50%;z-index: -1;}#sk-container-id-1 div.sk-parallel-item {display: flex;flex-direction: column;z-index: 1;position: relative;background-color: white;}#sk-container-id-1 div.sk-parallel-item:first-child::after {align-self: flex-end;width: 50%;}#sk-container-id-1 div.sk-parallel-item:last-child::after {align-self: flex-start;width: 50%;}#sk-container-id-1 div.sk-parallel-item:only-child::after {width: 0;}#sk-container-id-1 div.sk-dashed-wrapped {border: 1px dashed gray;margin: 0 0.4em 0.5em 0.4em;box-sizing: border-box;padding-bottom: 0.4em;background-color: white;}#sk-container-id-1 div.sk-label label {font-family: monospace;font-weight: bold;display: inline-block;line-height: 1.2em;}#sk-container-id-1 div.sk-label-container {text-align: center;}#sk-container-id-1 div.sk-container {/* jupyter's `normalize.less` sets `[hidden] { display: none; }` but bootstrap.min.css set `[hidden] { display: none !important; }` so we also need the `!important` here to be able to override the default hidden behavior on the sphinx rendered scikit-learn.org. See: https://github.com/scikit-learn/scikit-learn/issues/21755 */display: inline-block !important;position: relative;}#sk-container-id-1 div.sk-text-repr-fallback {display: none;}</style><div id=\"sk-container-id-1\" class=\"sk-top-container\"><div class=\"sk-text-repr-fallback\"><pre>LogisticRegression(C=150, max_iter=250, tol=1e-05)</pre><b>In a Jupyter environment, please rerun this cell to show the HTML representation or trust the notebook. <br />On GitHub, the HTML representation is unable to render, please try loading this page with nbviewer.org.</b></div><div class=\"sk-container\" hidden><div class=\"sk-item\"><div class=\"sk-estimator sk-toggleable\"><input class=\"sk-toggleable__control sk-hidden--visually\" id=\"sk-estimator-id-1\" type=\"checkbox\" checked><label for=\"sk-estimator-id-1\" class=\"sk-toggleable__label sk-toggleable__label-arrow\">LogisticRegression</label><div class=\"sk-toggleable__content\"><pre>LogisticRegression(C=150, max_iter=250, tol=1e-05)</pre></div></div></div></div></div>"
      ],
      "text/plain": [
       "LogisticRegression(C=150, max_iter=250, tol=1e-05)"
      ]
     },
     "execution_count": 33,
     "metadata": {},
     "output_type": "execute_result"
    }
   ],
   "source": [
    "# fitting best model for logistic regression\n",
    "log_primal = LogisticRegression(C=150, class_weight=None, dual=False, fit_intercept=True,intercept_scaling=1, max_iter=250, multi_class='auto',n_jobs=None, \n",
    "                                penalty='l2', random_state=None, solver='lbfgs',tol=1e-05, verbose=0, warm_start=False)\n",
    "log_primal.fit(df_train.loc[:, df_train.columns != 'Exited'],df_train.Exited)"
   ]
  },
  {
   "cell_type": "code",
   "execution_count": 34,
   "id": "270014ec",
   "metadata": {},
   "outputs": [
    {
     "name": "stdout",
     "output_type": "stream",
     "text": [
      "              precision    recall  f1-score   support\n",
      "\n",
      "           0       0.83      0.97      0.89      6353\n",
      "           1       0.64      0.24      0.35      1647\n",
      "\n",
      "    accuracy                           0.82      8000\n",
      "   macro avg       0.73      0.60      0.62      8000\n",
      "weighted avg       0.79      0.82      0.78      8000\n",
      "\n"
     ]
    }
   ],
   "source": [
    "# getting accuracy rate for logistic regression model\n",
    "print(classification_report(df_train.Exited, log_primal.predict(df_train.loc[:, df_train.columns != 'Exited'])))"
   ]
  },
  {
   "cell_type": "markdown",
   "id": "27006927",
   "metadata": {},
   "source": [
    "#### Method 2: SVM"
   ]
  },
  {
   "cell_type": "code",
   "execution_count": 35,
   "id": "e3ba8f9c",
   "metadata": {},
   "outputs": [
    {
     "name": "stdout",
     "output_type": "stream",
     "text": [
      "0.8518747609662071\n",
      "{'C': 100, 'gamma': 0.1, 'kernel': 'rbf', 'probability': True}\n",
      "SVC(C=100, gamma=0.1, probability=True)\n"
     ]
    }
   ],
   "source": [
    "# hyperparameter tuning for SVM model\n",
    "param_grid = {'C': [0.5,100,150,200], 'gamma': [0.1,0.01,0.001],'probability':[True],'kernel': ['rbf']}\n",
    "SVM_grid = GridSearchCV(SVC(), param_grid, cv=3, refit=True, verbose=0)\n",
    "SVM_grid.fit(df_train.loc[:, df_train.columns != 'Exited'],df_train.Exited)\n",
    "best_model(SVM_grid)"
   ]
  },
  {
   "cell_type": "code",
   "execution_count": 36,
   "id": "6d008aa9",
   "metadata": {},
   "outputs": [
    {
     "data": {
      "text/html": [
       "<style>#sk-container-id-2 {color: black;background-color: white;}#sk-container-id-2 pre{padding: 0;}#sk-container-id-2 div.sk-toggleable {background-color: white;}#sk-container-id-2 label.sk-toggleable__label {cursor: pointer;display: block;width: 100%;margin-bottom: 0;padding: 0.3em;box-sizing: border-box;text-align: center;}#sk-container-id-2 label.sk-toggleable__label-arrow:before {content: \"▸\";float: left;margin-right: 0.25em;color: #696969;}#sk-container-id-2 label.sk-toggleable__label-arrow:hover:before {color: black;}#sk-container-id-2 div.sk-estimator:hover label.sk-toggleable__label-arrow:before {color: black;}#sk-container-id-2 div.sk-toggleable__content {max-height: 0;max-width: 0;overflow: hidden;text-align: left;background-color: #f0f8ff;}#sk-container-id-2 div.sk-toggleable__content pre {margin: 0.2em;color: black;border-radius: 0.25em;background-color: #f0f8ff;}#sk-container-id-2 input.sk-toggleable__control:checked~div.sk-toggleable__content {max-height: 200px;max-width: 100%;overflow: auto;}#sk-container-id-2 input.sk-toggleable__control:checked~label.sk-toggleable__label-arrow:before {content: \"▾\";}#sk-container-id-2 div.sk-estimator input.sk-toggleable__control:checked~label.sk-toggleable__label {background-color: #d4ebff;}#sk-container-id-2 div.sk-label input.sk-toggleable__control:checked~label.sk-toggleable__label {background-color: #d4ebff;}#sk-container-id-2 input.sk-hidden--visually {border: 0;clip: rect(1px 1px 1px 1px);clip: rect(1px, 1px, 1px, 1px);height: 1px;margin: -1px;overflow: hidden;padding: 0;position: absolute;width: 1px;}#sk-container-id-2 div.sk-estimator {font-family: monospace;background-color: #f0f8ff;border: 1px dotted black;border-radius: 0.25em;box-sizing: border-box;margin-bottom: 0.5em;}#sk-container-id-2 div.sk-estimator:hover {background-color: #d4ebff;}#sk-container-id-2 div.sk-parallel-item::after {content: \"\";width: 100%;border-bottom: 1px solid gray;flex-grow: 1;}#sk-container-id-2 div.sk-label:hover label.sk-toggleable__label {background-color: #d4ebff;}#sk-container-id-2 div.sk-serial::before {content: \"\";position: absolute;border-left: 1px solid gray;box-sizing: border-box;top: 0;bottom: 0;left: 50%;z-index: 0;}#sk-container-id-2 div.sk-serial {display: flex;flex-direction: column;align-items: center;background-color: white;padding-right: 0.2em;padding-left: 0.2em;position: relative;}#sk-container-id-2 div.sk-item {position: relative;z-index: 1;}#sk-container-id-2 div.sk-parallel {display: flex;align-items: stretch;justify-content: center;background-color: white;position: relative;}#sk-container-id-2 div.sk-item::before, #sk-container-id-2 div.sk-parallel-item::before {content: \"\";position: absolute;border-left: 1px solid gray;box-sizing: border-box;top: 0;bottom: 0;left: 50%;z-index: -1;}#sk-container-id-2 div.sk-parallel-item {display: flex;flex-direction: column;z-index: 1;position: relative;background-color: white;}#sk-container-id-2 div.sk-parallel-item:first-child::after {align-self: flex-end;width: 50%;}#sk-container-id-2 div.sk-parallel-item:last-child::after {align-self: flex-start;width: 50%;}#sk-container-id-2 div.sk-parallel-item:only-child::after {width: 0;}#sk-container-id-2 div.sk-dashed-wrapped {border: 1px dashed gray;margin: 0 0.4em 0.5em 0.4em;box-sizing: border-box;padding-bottom: 0.4em;background-color: white;}#sk-container-id-2 div.sk-label label {font-family: monospace;font-weight: bold;display: inline-block;line-height: 1.2em;}#sk-container-id-2 div.sk-label-container {text-align: center;}#sk-container-id-2 div.sk-container {/* jupyter's `normalize.less` sets `[hidden] { display: none; }` but bootstrap.min.css set `[hidden] { display: none !important; }` so we also need the `!important` here to be able to override the default hidden behavior on the sphinx rendered scikit-learn.org. See: https://github.com/scikit-learn/scikit-learn/issues/21755 */display: inline-block !important;position: relative;}#sk-container-id-2 div.sk-text-repr-fallback {display: none;}</style><div id=\"sk-container-id-2\" class=\"sk-top-container\"><div class=\"sk-text-repr-fallback\"><pre>SVC(C=100, gamma=0.1, probability=True)</pre><b>In a Jupyter environment, please rerun this cell to show the HTML representation or trust the notebook. <br />On GitHub, the HTML representation is unable to render, please try loading this page with nbviewer.org.</b></div><div class=\"sk-container\" hidden><div class=\"sk-item\"><div class=\"sk-estimator sk-toggleable\"><input class=\"sk-toggleable__control sk-hidden--visually\" id=\"sk-estimator-id-2\" type=\"checkbox\" checked><label for=\"sk-estimator-id-2\" class=\"sk-toggleable__label sk-toggleable__label-arrow\">SVC</label><div class=\"sk-toggleable__content\"><pre>SVC(C=100, gamma=0.1, probability=True)</pre></div></div></div></div></div>"
      ],
      "text/plain": [
       "SVC(C=100, gamma=0.1, probability=True)"
      ]
     },
     "execution_count": 36,
     "metadata": {},
     "output_type": "execute_result"
    }
   ],
   "source": [
    "# fitting best model for SVM model\n",
    "SVM_RBF = SVC(C=100, cache_size=200, class_weight=None, coef0=0.0, decision_function_shape='ovr', degree=3, gamma=0.1, kernel='rbf', max_iter=-1, probability=True, \n",
    "              random_state=None, shrinking=True,tol=0.001, verbose=False)\n",
    "SVM_RBF.fit(df_train.loc[:, df_train.columns != 'Exited'],df_train.Exited)"
   ]
  },
  {
   "cell_type": "code",
   "execution_count": 37,
   "id": "26051ac7",
   "metadata": {},
   "outputs": [
    {
     "name": "stdout",
     "output_type": "stream",
     "text": [
      "              precision    recall  f1-score   support\n",
      "\n",
      "           0       0.86      0.98      0.92      6353\n",
      "           1       0.85      0.40      0.54      1647\n",
      "\n",
      "    accuracy                           0.86      8000\n",
      "   macro avg       0.86      0.69      0.73      8000\n",
      "weighted avg       0.86      0.86      0.84      8000\n",
      "\n"
     ]
    }
   ],
   "source": [
    "# getting accuracy rate for SVM\n",
    "print(classification_report(df_train.Exited, SVM_RBF.predict(df_train.loc[:, df_train.columns != 'Exited'])))"
   ]
  },
  {
   "cell_type": "markdown",
   "id": "f5e678e2",
   "metadata": {},
   "source": [
    "#### Method 3: Random Forest Classifier"
   ]
  },
  {
   "cell_type": "code",
   "execution_count": 38,
   "id": "fac984ad",
   "metadata": {},
   "outputs": [
    {
     "name": "stdout",
     "output_type": "stream",
     "text": [
      "0.864625\n",
      "{'max_depth': 9, 'max_features': 6, 'min_samples_split': 5, 'n_estimators': 50}\n",
      "RandomForestClassifier(max_depth=9, max_features=6, min_samples_split=5,\n",
      "                       n_estimators=50)\n"
     ]
    }
   ],
   "source": [
    "# hyperparameter tuning for Random Forest Classifier\n",
    "param_grid = {'max_depth': [3, 5, 6, 7, 8,9], 'max_features': [2,4,6,7,8,9],'n_estimators':[50,100],'min_samples_split': [3, 5, 6, 7]}\n",
    "RanFor_grid = GridSearchCV(RandomForestClassifier(), param_grid, cv=5, refit=True, verbose=0)\n",
    "RanFor_grid.fit(df_train.loc[:, df_train.columns != 'Exited'],df_train.Exited)\n",
    "best_model(RanFor_grid)"
   ]
  },
  {
   "cell_type": "code",
   "execution_count": 41,
   "id": "ba68224d",
   "metadata": {},
   "outputs": [
    {
     "data": {
      "text/html": [
       "<style>#sk-container-id-3 {color: black;background-color: white;}#sk-container-id-3 pre{padding: 0;}#sk-container-id-3 div.sk-toggleable {background-color: white;}#sk-container-id-3 label.sk-toggleable__label {cursor: pointer;display: block;width: 100%;margin-bottom: 0;padding: 0.3em;box-sizing: border-box;text-align: center;}#sk-container-id-3 label.sk-toggleable__label-arrow:before {content: \"▸\";float: left;margin-right: 0.25em;color: #696969;}#sk-container-id-3 label.sk-toggleable__label-arrow:hover:before {color: black;}#sk-container-id-3 div.sk-estimator:hover label.sk-toggleable__label-arrow:before {color: black;}#sk-container-id-3 div.sk-toggleable__content {max-height: 0;max-width: 0;overflow: hidden;text-align: left;background-color: #f0f8ff;}#sk-container-id-3 div.sk-toggleable__content pre {margin: 0.2em;color: black;border-radius: 0.25em;background-color: #f0f8ff;}#sk-container-id-3 input.sk-toggleable__control:checked~div.sk-toggleable__content {max-height: 200px;max-width: 100%;overflow: auto;}#sk-container-id-3 input.sk-toggleable__control:checked~label.sk-toggleable__label-arrow:before {content: \"▾\";}#sk-container-id-3 div.sk-estimator input.sk-toggleable__control:checked~label.sk-toggleable__label {background-color: #d4ebff;}#sk-container-id-3 div.sk-label input.sk-toggleable__control:checked~label.sk-toggleable__label {background-color: #d4ebff;}#sk-container-id-3 input.sk-hidden--visually {border: 0;clip: rect(1px 1px 1px 1px);clip: rect(1px, 1px, 1px, 1px);height: 1px;margin: -1px;overflow: hidden;padding: 0;position: absolute;width: 1px;}#sk-container-id-3 div.sk-estimator {font-family: monospace;background-color: #f0f8ff;border: 1px dotted black;border-radius: 0.25em;box-sizing: border-box;margin-bottom: 0.5em;}#sk-container-id-3 div.sk-estimator:hover {background-color: #d4ebff;}#sk-container-id-3 div.sk-parallel-item::after {content: \"\";width: 100%;border-bottom: 1px solid gray;flex-grow: 1;}#sk-container-id-3 div.sk-label:hover label.sk-toggleable__label {background-color: #d4ebff;}#sk-container-id-3 div.sk-serial::before {content: \"\";position: absolute;border-left: 1px solid gray;box-sizing: border-box;top: 0;bottom: 0;left: 50%;z-index: 0;}#sk-container-id-3 div.sk-serial {display: flex;flex-direction: column;align-items: center;background-color: white;padding-right: 0.2em;padding-left: 0.2em;position: relative;}#sk-container-id-3 div.sk-item {position: relative;z-index: 1;}#sk-container-id-3 div.sk-parallel {display: flex;align-items: stretch;justify-content: center;background-color: white;position: relative;}#sk-container-id-3 div.sk-item::before, #sk-container-id-3 div.sk-parallel-item::before {content: \"\";position: absolute;border-left: 1px solid gray;box-sizing: border-box;top: 0;bottom: 0;left: 50%;z-index: -1;}#sk-container-id-3 div.sk-parallel-item {display: flex;flex-direction: column;z-index: 1;position: relative;background-color: white;}#sk-container-id-3 div.sk-parallel-item:first-child::after {align-self: flex-end;width: 50%;}#sk-container-id-3 div.sk-parallel-item:last-child::after {align-self: flex-start;width: 50%;}#sk-container-id-3 div.sk-parallel-item:only-child::after {width: 0;}#sk-container-id-3 div.sk-dashed-wrapped {border: 1px dashed gray;margin: 0 0.4em 0.5em 0.4em;box-sizing: border-box;padding-bottom: 0.4em;background-color: white;}#sk-container-id-3 div.sk-label label {font-family: monospace;font-weight: bold;display: inline-block;line-height: 1.2em;}#sk-container-id-3 div.sk-label-container {text-align: center;}#sk-container-id-3 div.sk-container {/* jupyter's `normalize.less` sets `[hidden] { display: none; }` but bootstrap.min.css set `[hidden] { display: none !important; }` so we also need the `!important` here to be able to override the default hidden behavior on the sphinx rendered scikit-learn.org. See: https://github.com/scikit-learn/scikit-learn/issues/21755 */display: inline-block !important;position: relative;}#sk-container-id-3 div.sk-text-repr-fallback {display: none;}</style><div id=\"sk-container-id-3\" class=\"sk-top-container\"><div class=\"sk-text-repr-fallback\"><pre>RandomForestClassifier(max_depth=9, max_features=6, min_samples_split=5,\n",
       "                       n_estimators=50)</pre><b>In a Jupyter environment, please rerun this cell to show the HTML representation or trust the notebook. <br />On GitHub, the HTML representation is unable to render, please try loading this page with nbviewer.org.</b></div><div class=\"sk-container\" hidden><div class=\"sk-item\"><div class=\"sk-estimator sk-toggleable\"><input class=\"sk-toggleable__control sk-hidden--visually\" id=\"sk-estimator-id-3\" type=\"checkbox\" checked><label for=\"sk-estimator-id-3\" class=\"sk-toggleable__label sk-toggleable__label-arrow\">RandomForestClassifier</label><div class=\"sk-toggleable__content\"><pre>RandomForestClassifier(max_depth=9, max_features=6, min_samples_split=5,\n",
       "                       n_estimators=50)</pre></div></div></div></div></div>"
      ],
      "text/plain": [
       "RandomForestClassifier(max_depth=9, max_features=6, min_samples_split=5,\n",
       "                       n_estimators=50)"
      ]
     },
     "execution_count": 41,
     "metadata": {},
     "output_type": "execute_result"
    }
   ],
   "source": [
    "# fitting best model for Random Forest Classifier\n",
    "RF = RandomForestClassifier(bootstrap=True, class_weight=None, criterion='gini',max_depth=9, max_features=6, max_leaf_nodes=None,min_impurity_decrease=0.0,\n",
    "                            min_samples_leaf=1, min_samples_split=5,min_weight_fraction_leaf=0.0, n_estimators=50, n_jobs=None,\n",
    "                            oob_score=False, random_state=None, verbose=0,warm_start=False)\n",
    "RF.fit(df_train.loc[:, df_train.columns != 'Exited'],df_train.Exited)"
   ]
  },
  {
   "cell_type": "code",
   "execution_count": 42,
   "id": "e13a2f4d",
   "metadata": {
    "scrolled": true
   },
   "outputs": [
    {
     "name": "stdout",
     "output_type": "stream",
     "text": [
      "              precision    recall  f1-score   support\n",
      "\n",
      "           0       0.90      0.98      0.94      6353\n",
      "           1       0.91      0.56      0.69      1647\n",
      "\n",
      "    accuracy                           0.90      8000\n",
      "   macro avg       0.90      0.77      0.81      8000\n",
      "weighted avg       0.90      0.90      0.89      8000\n",
      "\n"
     ]
    }
   ],
   "source": [
    "# getting accuracy rate for Random Forest Classifier\n",
    "print(classification_report(df_train.Exited, RF.predict(df_train.loc[:, df_train.columns != 'Exited'])))"
   ]
  },
  {
   "cell_type": "markdown",
   "id": "c2189b15",
   "metadata": {},
   "source": [
    "Based on the metrics used above, I noted that the best model that gives a decent balance of the recall and precision is the random forest, with a precision score on 1's of 0.91, out of all customers that the model thinks will churn, 91% do actually churn and with the recall score of 0.56 on the 1's, the model is able to highlight 56% of all those who churned."
   ]
  },
  {
   "cell_type": "markdown",
   "id": "49eb3b22",
   "metadata": {},
   "source": [
    "### 7. Testing and Accuracy Score\n",
    "\n",
    "This section seeks to implement the following:\n",
    "1. Processing of test data used for prediction purposes.\n",
    "2. Getting accuracy score from the best fitted model."
   ]
  },
  {
   "cell_type": "code",
   "execution_count": 51,
   "id": "ac0d760b",
   "metadata": {},
   "outputs": [
    {
     "data": {
      "text/html": [
       "<div>\n",
       "<style scoped>\n",
       "    .dataframe tbody tr th:only-of-type {\n",
       "        vertical-align: middle;\n",
       "    }\n",
       "\n",
       "    .dataframe tbody tr th {\n",
       "        vertical-align: top;\n",
       "    }\n",
       "\n",
       "    .dataframe thead th {\n",
       "        text-align: right;\n",
       "    }\n",
       "</style>\n",
       "<table border=\"1\" class=\"dataframe\">\n",
       "  <thead>\n",
       "    <tr style=\"text-align: right;\">\n",
       "      <th></th>\n",
       "      <th>Exited</th>\n",
       "      <th>CreditScore</th>\n",
       "      <th>Age</th>\n",
       "      <th>Tenure</th>\n",
       "      <th>Balance</th>\n",
       "      <th>NumOfProducts</th>\n",
       "      <th>EstimatedSalary</th>\n",
       "      <th>BalanceSalaryRatio</th>\n",
       "      <th>TenureByAge</th>\n",
       "      <th>CreditScoreGivenAge</th>\n",
       "      <th>HasCrCard</th>\n",
       "      <th>IsActiveMember</th>\n",
       "      <th>Gender_Female</th>\n",
       "      <th>Gender_Male</th>\n",
       "      <th>Geography_Spain</th>\n",
       "      <th>Geography_France</th>\n",
       "      <th>Geography_Germany</th>\n",
       "    </tr>\n",
       "  </thead>\n",
       "  <tbody>\n",
       "    <tr>\n",
       "      <th>2</th>\n",
       "      <td>1</td>\n",
       "      <td>502</td>\n",
       "      <td>42</td>\n",
       "      <td>8</td>\n",
       "      <td>159660.80</td>\n",
       "      <td>3</td>\n",
       "      <td>113931.57</td>\n",
       "      <td>1.401375</td>\n",
       "      <td>0.190476</td>\n",
       "      <td>11.952381</td>\n",
       "      <td>1</td>\n",
       "      <td>-1</td>\n",
       "      <td>1</td>\n",
       "      <td>-1</td>\n",
       "      <td>-1</td>\n",
       "      <td>1</td>\n",
       "      <td>-1</td>\n",
       "    </tr>\n",
       "    <tr>\n",
       "      <th>3</th>\n",
       "      <td>0</td>\n",
       "      <td>699</td>\n",
       "      <td>39</td>\n",
       "      <td>1</td>\n",
       "      <td>0.00</td>\n",
       "      <td>2</td>\n",
       "      <td>93826.63</td>\n",
       "      <td>0.000000</td>\n",
       "      <td>0.025641</td>\n",
       "      <td>17.923077</td>\n",
       "      <td>-1</td>\n",
       "      <td>-1</td>\n",
       "      <td>1</td>\n",
       "      <td>-1</td>\n",
       "      <td>-1</td>\n",
       "      <td>1</td>\n",
       "      <td>-1</td>\n",
       "    </tr>\n",
       "    <tr>\n",
       "      <th>5</th>\n",
       "      <td>1</td>\n",
       "      <td>645</td>\n",
       "      <td>44</td>\n",
       "      <td>8</td>\n",
       "      <td>113755.78</td>\n",
       "      <td>2</td>\n",
       "      <td>149756.71</td>\n",
       "      <td>0.759604</td>\n",
       "      <td>0.181818</td>\n",
       "      <td>14.659091</td>\n",
       "      <td>1</td>\n",
       "      <td>-1</td>\n",
       "      <td>-1</td>\n",
       "      <td>1</td>\n",
       "      <td>1</td>\n",
       "      <td>-1</td>\n",
       "      <td>-1</td>\n",
       "    </tr>\n",
       "    <tr>\n",
       "      <th>17</th>\n",
       "      <td>0</td>\n",
       "      <td>549</td>\n",
       "      <td>24</td>\n",
       "      <td>9</td>\n",
       "      <td>0.00</td>\n",
       "      <td>2</td>\n",
       "      <td>14406.41</td>\n",
       "      <td>0.000000</td>\n",
       "      <td>0.375000</td>\n",
       "      <td>22.875000</td>\n",
       "      <td>1</td>\n",
       "      <td>1</td>\n",
       "      <td>1</td>\n",
       "      <td>-1</td>\n",
       "      <td>1</td>\n",
       "      <td>-1</td>\n",
       "      <td>-1</td>\n",
       "    </tr>\n",
       "    <tr>\n",
       "      <th>18</th>\n",
       "      <td>0</td>\n",
       "      <td>587</td>\n",
       "      <td>45</td>\n",
       "      <td>6</td>\n",
       "      <td>0.00</td>\n",
       "      <td>1</td>\n",
       "      <td>158684.81</td>\n",
       "      <td>0.000000</td>\n",
       "      <td>0.133333</td>\n",
       "      <td>13.044444</td>\n",
       "      <td>-1</td>\n",
       "      <td>-1</td>\n",
       "      <td>-1</td>\n",
       "      <td>1</td>\n",
       "      <td>1</td>\n",
       "      <td>-1</td>\n",
       "      <td>-1</td>\n",
       "    </tr>\n",
       "  </tbody>\n",
       "</table>\n",
       "</div>"
      ],
      "text/plain": [
       "    Exited  CreditScore  Age  Tenure    Balance  NumOfProducts  \\\n",
       "2        1          502   42       8  159660.80              3   \n",
       "3        0          699   39       1       0.00              2   \n",
       "5        1          645   44       8  113755.78              2   \n",
       "17       0          549   24       9       0.00              2   \n",
       "18       0          587   45       6       0.00              1   \n",
       "\n",
       "    EstimatedSalary  BalanceSalaryRatio  TenureByAge  CreditScoreGivenAge  \\\n",
       "2         113931.57            1.401375     0.190476            11.952381   \n",
       "3          93826.63            0.000000     0.025641            17.923077   \n",
       "5         149756.71            0.759604     0.181818            14.659091   \n",
       "17         14406.41            0.000000     0.375000            22.875000   \n",
       "18        158684.81            0.000000     0.133333            13.044444   \n",
       "\n",
       "    HasCrCard  IsActiveMember  Gender_Female  Gender_Male  Geography_Spain  \\\n",
       "2           1              -1              1           -1               -1   \n",
       "3          -1              -1              1           -1               -1   \n",
       "5           1              -1             -1            1                1   \n",
       "17          1               1              1           -1                1   \n",
       "18         -1              -1             -1            1                1   \n",
       "\n",
       "    Geography_France  Geography_Germany  \n",
       "2                  1                 -1  \n",
       "3                  1                 -1  \n",
       "5                 -1                 -1  \n",
       "17                -1                 -1  \n",
       "18                -1                 -1  "
      ]
     },
     "execution_count": 51,
     "metadata": {},
     "output_type": "execute_result"
    }
   ],
   "source": [
    "#implementing one hot encoding for categorical variables\n",
    "\n",
    "# 2 dummy variables component, credit card\n",
    "df_test.loc[df_test.HasCrCard == 0, 'HasCrCard'] = -1\n",
    "\n",
    "# 2 dummy variables component, active member status\n",
    "df_test.loc[df_test.IsActiveMember == 0, 'IsActiveMember'] = -1\n",
    "\n",
    "# 2 dummy variables component, gender\n",
    "df_test['Gender_Female']=np.where(df_test['Gender']=='Female',1,-1)\n",
    "df_test['Gender_Male']=np.where(df_test['Gender']=='Male',1,-1)\n",
    "\n",
    "# 3 dummy variables component, geography\n",
    "df_test['Geography_Spain']=np.where(df_test['Geography']=='Spain',1,-1)\n",
    "df_test['Geography_France']=np.where(df_test['Geography']=='France',1,-1)\n",
    "df_test['Geography_Germany']=np.where(df_test['Geography']=='Germany',1,-1)\n",
    "\n",
    "df_test=df_test.drop(['Geography','Gender'],axis=1)\n",
    "df_test.head()"
   ]
  },
  {
   "cell_type": "code",
   "execution_count": 52,
   "id": "7c244080",
   "metadata": {},
   "outputs": [
    {
     "data": {
      "text/html": [
       "<div>\n",
       "<style scoped>\n",
       "    .dataframe tbody tr th:only-of-type {\n",
       "        vertical-align: middle;\n",
       "    }\n",
       "\n",
       "    .dataframe tbody tr th {\n",
       "        vertical-align: top;\n",
       "    }\n",
       "\n",
       "    .dataframe thead th {\n",
       "        text-align: right;\n",
       "    }\n",
       "</style>\n",
       "<table border=\"1\" class=\"dataframe\">\n",
       "  <thead>\n",
       "    <tr style=\"text-align: right;\">\n",
       "      <th></th>\n",
       "      <th>Exited</th>\n",
       "      <th>CreditScore</th>\n",
       "      <th>Age</th>\n",
       "      <th>Tenure</th>\n",
       "      <th>Balance</th>\n",
       "      <th>NumOfProducts</th>\n",
       "      <th>EstimatedSalary</th>\n",
       "      <th>BalanceSalaryRatio</th>\n",
       "      <th>TenureByAge</th>\n",
       "      <th>CreditScoreGivenAge</th>\n",
       "      <th>HasCrCard</th>\n",
       "      <th>IsActiveMember</th>\n",
       "      <th>Gender_Female</th>\n",
       "      <th>Gender_Male</th>\n",
       "      <th>Geography_Spain</th>\n",
       "      <th>Geography_France</th>\n",
       "      <th>Geography_Germany</th>\n",
       "    </tr>\n",
       "  </thead>\n",
       "  <tbody>\n",
       "    <tr>\n",
       "      <th>2</th>\n",
       "      <td>1</td>\n",
       "      <td>0.270440</td>\n",
       "      <td>0.324324</td>\n",
       "      <td>0.8</td>\n",
       "      <td>0.750363</td>\n",
       "      <td>0.666667</td>\n",
       "      <td>0.570039</td>\n",
       "      <td>0.000132</td>\n",
       "      <td>0.400000</td>\n",
       "      <td>0.135061</td>\n",
       "      <td>1</td>\n",
       "      <td>-1</td>\n",
       "      <td>1</td>\n",
       "      <td>-1</td>\n",
       "      <td>-1</td>\n",
       "      <td>1</td>\n",
       "      <td>-1</td>\n",
       "    </tr>\n",
       "    <tr>\n",
       "      <th>3</th>\n",
       "      <td>0</td>\n",
       "      <td>0.683438</td>\n",
       "      <td>0.283784</td>\n",
       "      <td>0.1</td>\n",
       "      <td>0.000000</td>\n",
       "      <td>0.333333</td>\n",
       "      <td>0.469437</td>\n",
       "      <td>0.000000</td>\n",
       "      <td>0.053846</td>\n",
       "      <td>0.292387</td>\n",
       "      <td>-1</td>\n",
       "      <td>-1</td>\n",
       "      <td>1</td>\n",
       "      <td>-1</td>\n",
       "      <td>-1</td>\n",
       "      <td>1</td>\n",
       "      <td>-1</td>\n",
       "    </tr>\n",
       "    <tr>\n",
       "      <th>5</th>\n",
       "      <td>1</td>\n",
       "      <td>0.570231</td>\n",
       "      <td>0.351351</td>\n",
       "      <td>0.8</td>\n",
       "      <td>0.534621</td>\n",
       "      <td>0.333333</td>\n",
       "      <td>0.749303</td>\n",
       "      <td>0.000072</td>\n",
       "      <td>0.381818</td>\n",
       "      <td>0.206382</td>\n",
       "      <td>1</td>\n",
       "      <td>-1</td>\n",
       "      <td>-1</td>\n",
       "      <td>1</td>\n",
       "      <td>1</td>\n",
       "      <td>-1</td>\n",
       "      <td>-1</td>\n",
       "    </tr>\n",
       "    <tr>\n",
       "      <th>17</th>\n",
       "      <td>0</td>\n",
       "      <td>0.368973</td>\n",
       "      <td>0.081081</td>\n",
       "      <td>0.9</td>\n",
       "      <td>0.000000</td>\n",
       "      <td>0.333333</td>\n",
       "      <td>0.072030</td>\n",
       "      <td>0.000000</td>\n",
       "      <td>0.787500</td>\n",
       "      <td>0.422869</td>\n",
       "      <td>1</td>\n",
       "      <td>1</td>\n",
       "      <td>1</td>\n",
       "      <td>-1</td>\n",
       "      <td>1</td>\n",
       "      <td>-1</td>\n",
       "      <td>-1</td>\n",
       "    </tr>\n",
       "    <tr>\n",
       "      <th>18</th>\n",
       "      <td>0</td>\n",
       "      <td>0.448637</td>\n",
       "      <td>0.364865</td>\n",
       "      <td>0.6</td>\n",
       "      <td>0.000000</td>\n",
       "      <td>0.000000</td>\n",
       "      <td>0.793978</td>\n",
       "      <td>0.000000</td>\n",
       "      <td>0.280000</td>\n",
       "      <td>0.163837</td>\n",
       "      <td>-1</td>\n",
       "      <td>-1</td>\n",
       "      <td>-1</td>\n",
       "      <td>1</td>\n",
       "      <td>1</td>\n",
       "      <td>-1</td>\n",
       "      <td>-1</td>\n",
       "    </tr>\n",
       "  </tbody>\n",
       "</table>\n",
       "</div>"
      ],
      "text/plain": [
       "    Exited  CreditScore       Age  Tenure   Balance  NumOfProducts  \\\n",
       "2        1     0.270440  0.324324     0.8  0.750363       0.666667   \n",
       "3        0     0.683438  0.283784     0.1  0.000000       0.333333   \n",
       "5        1     0.570231  0.351351     0.8  0.534621       0.333333   \n",
       "17       0     0.368973  0.081081     0.9  0.000000       0.333333   \n",
       "18       0     0.448637  0.364865     0.6  0.000000       0.000000   \n",
       "\n",
       "    EstimatedSalary  BalanceSalaryRatio  TenureByAge  CreditScoreGivenAge  \\\n",
       "2          0.570039            0.000132     0.400000             0.135061   \n",
       "3          0.469437            0.000000     0.053846             0.292387   \n",
       "5          0.749303            0.000072     0.381818             0.206382   \n",
       "17         0.072030            0.000000     0.787500             0.422869   \n",
       "18         0.793978            0.000000     0.280000             0.163837   \n",
       "\n",
       "    HasCrCard  IsActiveMember  Gender_Female  Gender_Male  Geography_Spain  \\\n",
       "2           1              -1              1           -1               -1   \n",
       "3          -1              -1              1           -1               -1   \n",
       "5           1              -1             -1            1                1   \n",
       "17          1               1              1           -1                1   \n",
       "18         -1              -1             -1            1                1   \n",
       "\n",
       "    Geography_France  Geography_Germany  \n",
       "2                  1                 -1  \n",
       "3                  1                 -1  \n",
       "5                 -1                 -1  \n",
       "17                -1                 -1  \n",
       "18                -1                 -1  "
      ]
     },
     "execution_count": 52,
     "metadata": {},
     "output_type": "execute_result"
    }
   ],
   "source": [
    "# minMax scaling the continuous variables\n",
    "minVec = df_test[continuous_vars].min().copy()\n",
    "maxVec = df_test[continuous_vars].max().copy()\n",
    "df_test[continuous_vars] = (df_test[continuous_vars]-minVec)/(maxVec-minVec)\n",
    "df_test.head()"
   ]
  },
  {
   "cell_type": "code",
   "execution_count": 53,
   "id": "22a4d2b5",
   "metadata": {
    "scrolled": false
   },
   "outputs": [
    {
     "name": "stdout",
     "output_type": "stream",
     "text": [
      "              precision    recall  f1-score   support\n",
      "\n",
      "           0       0.88      0.96      0.92      1610\n",
      "           1       0.72      0.45      0.55       390\n",
      "\n",
      "    accuracy                           0.86      2000\n",
      "   macro avg       0.80      0.70      0.73      2000\n",
      "weighted avg       0.85      0.86      0.84      2000\n",
      "\n"
     ]
    }
   ],
   "source": [
    "# getting accuracy rate for test dataset\n",
    "print(classification_report(df_test.Exited,  RF.predict(df_test.loc[:, df_test.columns != 'Exited'])))"
   ]
  },
  {
   "cell_type": "markdown",
   "id": "f790f65b",
   "metadata": {},
   "source": [
    "Based on the metrics used above, the test data shows a relatively high precision on customers that actually churned, but however needs to still work on the recall score, it misses on those that end up churning."
   ]
  }
 ],
 "metadata": {
  "kernelspec": {
   "display_name": "Python 3 (ipykernel)",
   "language": "python",
   "name": "python3"
  },
  "language_info": {
   "codemirror_mode": {
    "name": "ipython",
    "version": 3
   },
   "file_extension": ".py",
   "mimetype": "text/x-python",
   "name": "python",
   "nbconvert_exporter": "python",
   "pygments_lexer": "ipython3",
   "version": "3.9.12"
  }
 },
 "nbformat": 4,
 "nbformat_minor": 5
}
